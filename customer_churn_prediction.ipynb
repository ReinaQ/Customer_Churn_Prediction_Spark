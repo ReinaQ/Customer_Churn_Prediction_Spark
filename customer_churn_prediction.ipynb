{
 "cells": [
  {
   "cell_type": "code",
   "execution_count": 139,
   "metadata": {},
   "outputs": [],
   "source": [
    "from pyspark.sql import SparkSession\n",
    "from pyspark.sql import Window\n",
    "from pyspark.sql.functions import avg, col, concat, desc, explode, lit, split, udf, isnull, isnan, to_date, hour, current_date,datediff\n",
    "from pyspark.sql.functions import sum as fsum\n",
    "from pyspark.sql.functions import max as fmax\n",
    "from pyspark.sql.types import IntegerType\n",
    "from pyspark.ml.classification import LogisticRegression, RandomForestClassifier, GBTClassifier\n",
    "from pyspark.ml.evaluation import MulticlassClassificationEvaluator\n",
    "from pyspark.ml.feature import StandardScaler, VectorAssembler\n",
    "from pyspark.ml.tuning import CrossValidator, ParamGridBuilder\n",
    "\n",
    "import datetime\n",
    "import matplotlib.pyplot as plt\n",
    "import pandas as pd\n",
    "import seaborn as sns"
   ]
  },
  {
   "cell_type": "code",
   "execution_count": 2,
   "metadata": {},
   "outputs": [],
   "source": [
    "# instantiate a Spark session\n",
    "spark = SparkSession.builder \\\n",
    "    .master('local') \\\n",
    "    .appName('sparkify') \\\n",
    "    .getOrCreate()"
   ]
  },
  {
   "cell_type": "markdown",
   "metadata": {},
   "source": [
    "# Load and Explore dataset\n",
    "### Load the dataset"
   ]
  },
  {
   "cell_type": "code",
   "execution_count": 3,
   "metadata": {},
   "outputs": [],
   "source": [
    "# load the user log data \n",
    "data_path = 'medium_sparkify_event_data.json'\n",
    "df = spark.read.json(data_path)"
   ]
  },
  {
   "cell_type": "code",
   "execution_count": 4,
   "metadata": {},
   "outputs": [
    {
     "name": "stdout",
     "output_type": "stream",
     "text": [
      "root\n",
      " |-- artist: string (nullable = true)\n",
      " |-- auth: string (nullable = true)\n",
      " |-- firstName: string (nullable = true)\n",
      " |-- gender: string (nullable = true)\n",
      " |-- itemInSession: long (nullable = true)\n",
      " |-- lastName: string (nullable = true)\n",
      " |-- length: double (nullable = true)\n",
      " |-- level: string (nullable = true)\n",
      " |-- location: string (nullable = true)\n",
      " |-- method: string (nullable = true)\n",
      " |-- page: string (nullable = true)\n",
      " |-- registration: long (nullable = true)\n",
      " |-- sessionId: long (nullable = true)\n",
      " |-- song: string (nullable = true)\n",
      " |-- status: long (nullable = true)\n",
      " |-- ts: long (nullable = true)\n",
      " |-- userAgent: string (nullable = true)\n",
      " |-- userId: string (nullable = true)\n",
      "\n"
     ]
    }
   ],
   "source": [
    "# preview its general information\n",
    "df.printSchema()"
   ]
  },
  {
   "cell_type": "code",
   "execution_count": 5,
   "metadata": {},
   "outputs": [
    {
     "data": {
      "text/plain": [
       "[Row(artist='Martin Orford', auth='Logged In', firstName='Joseph', gender='M', itemInSession=20, lastName='Morales', length=597.55057, level='free', location='Corpus Christi, TX', method='PUT', page='NextSong', registration=1532063507000, sessionId=292, song='Grand Designs', status=200, ts=1538352011000, userAgent='\"Mozilla/5.0 (Macintosh; Intel Mac OS X 10_9_4) AppleWebKit/537.36 (KHTML, like Gecko) Chrome/36.0.1985.125 Safari/537.36\"', userId='293'),\n",
       " Row(artist=\"John Brown's Body\", auth='Logged In', firstName='Sawyer', gender='M', itemInSession=74, lastName='Larson', length=380.21179, level='free', location='Houston-The Woodlands-Sugar Land, TX', method='PUT', page='NextSong', registration=1538069638000, sessionId=97, song='Bulls', status=200, ts=1538352025000, userAgent='\"Mozilla/5.0 (Macintosh; Intel Mac OS X 10_9_4) AppleWebKit/537.36 (KHTML, like Gecko) Chrome/36.0.1985.143 Safari/537.36\"', userId='98'),\n",
       " Row(artist='Afroman', auth='Logged In', firstName='Maverick', gender='M', itemInSession=184, lastName='Santiago', length=202.37016, level='paid', location='Orlando-Kissimmee-Sanford, FL', method='PUT', page='NextSong', registration=1535953455000, sessionId=178, song='Because I Got High', status=200, ts=1538352118000, userAgent='\"Mozilla/5.0 (Macintosh; Intel Mac OS X 10_9_4) AppleWebKit/537.36 (KHTML, like Gecko) Chrome/36.0.1985.143 Safari/537.36\"', userId='179')]"
      ]
     },
     "execution_count": 5,
     "metadata": {},
     "output_type": "execute_result"
    }
   ],
   "source": [
    "# take a look at the content of first 3 rows \n",
    "df.take(3)"
   ]
  },
  {
   "cell_type": "code",
   "execution_count": 6,
   "metadata": {},
   "outputs": [
    {
     "data": {
      "text/plain": [
       "543705"
      ]
     },
     "execution_count": 6,
     "metadata": {},
     "output_type": "execute_result"
    }
   ],
   "source": [
    "# row numbers\n",
    "df.count()"
   ]
  },
  {
   "cell_type": "code",
   "execution_count": 7,
   "metadata": {},
   "outputs": [
    {
     "data": {
      "text/plain": [
       "543705"
      ]
     },
     "execution_count": 7,
     "metadata": {},
     "output_type": "execute_result"
    }
   ],
   "source": [
    "# any duplicated log\n",
    "df.dropDuplicates().count()"
   ]
  },
  {
   "cell_type": "markdown",
   "metadata": {},
   "source": [
    "### Explore the user log data"
   ]
  },
  {
   "cell_type": "code",
   "execution_count": 8,
   "metadata": {},
   "outputs": [
    {
     "data": {
      "text/plain": [
       "[('artist', 'string'),\n",
       " ('auth', 'string'),\n",
       " ('firstName', 'string'),\n",
       " ('gender', 'string'),\n",
       " ('itemInSession', 'bigint'),\n",
       " ('lastName', 'string'),\n",
       " ('length', 'double'),\n",
       " ('level', 'string'),\n",
       " ('location', 'string'),\n",
       " ('method', 'string'),\n",
       " ('page', 'string'),\n",
       " ('registration', 'bigint'),\n",
       " ('sessionId', 'bigint'),\n",
       " ('song', 'string'),\n",
       " ('status', 'bigint'),\n",
       " ('ts', 'bigint'),\n",
       " ('userAgent', 'string'),\n",
       " ('userId', 'string')]"
      ]
     },
     "execution_count": 8,
     "metadata": {},
     "output_type": "execute_result"
    }
   ],
   "source": [
    "# data types in dataset\n",
    "df.dtypes"
   ]
  },
  {
   "cell_type": "code",
   "execution_count": 9,
   "metadata": {},
   "outputs": [
    {
     "name": "stdout",
     "output_type": "stream",
     "text": [
      "There are in total 18 columns in the dataset\n",
      "Categorical columns: ['artist', 'auth', 'firstName', 'gender', 'lastName', 'level', 'location', 'method', 'page', 'song', 'userAgent', 'userId']\n",
      "Numerical columns: ['itemInSession', 'length', 'registration', 'sessionId', 'status', 'ts']\n"
     ]
    }
   ],
   "source": [
    "print(f'There are in total {len(df.dtypes)} columns in the dataset')\n",
    "# how many categorical and numerical columns\n",
    "cat_cols = []\n",
    "num_cols = []\n",
    "\n",
    "for i in range(len(df.dtypes)):\n",
    "    if df.dtypes[i][1] == 'string':\n",
    "        cat_cols.append(df.dtypes[i][0])\n",
    "    else:\n",
    "        num_cols.append(df.dtypes[i][0])\n",
    "        \n",
    "print(f'Categorical columns: {cat_cols}')\n",
    "print(f'Numerical columns: {num_cols}')"
   ]
  },
  {
   "cell_type": "markdown",
   "metadata": {},
   "source": [
    "What are the values in each columns?\n",
    "Considering the effectiveness of the models we will build, we will take a look at the values of those columns(features) which will help us in the next cleaning data step.   \n",
    "\n",
    "1.Descriptive statistics of numeric columns"
   ]
  },
  {
   "cell_type": "code",
   "execution_count": 10,
   "metadata": {},
   "outputs": [
    {
     "name": "stdout",
     "output_type": "stream",
     "text": [
      "+-------+------------------+\n",
      "|summary|     itemInSession|\n",
      "+-------+------------------+\n",
      "|  count|            543705|\n",
      "|   mean|107.30629109535502|\n",
      "| stddev|116.72350849187941|\n",
      "|    min|                 0|\n",
      "|    max|              1005|\n",
      "+-------+------------------+\n",
      "\n"
     ]
    }
   ],
   "source": [
    "# item number in session\n",
    "df.describe('itemInSession').show()"
   ]
  },
  {
   "cell_type": "code",
   "execution_count": 11,
   "metadata": {},
   "outputs": [
    {
     "name": "stdout",
     "output_type": "stream",
     "text": [
      "+-------+------------------+\n",
      "|summary|            length|\n",
      "+-------+------------------+\n",
      "|  count|            432877|\n",
      "|   mean|248.66459278007807|\n",
      "| stddev| 98.41266955052018|\n",
      "|    min|           0.78322|\n",
      "|    max|        3024.66567|\n",
      "+-------+------------------+\n",
      "\n"
     ]
    }
   ],
   "source": [
    "# length of time for specific log\n",
    "df.describe('length').show()"
   ]
  },
  {
   "cell_type": "code",
   "execution_count": 12,
   "metadata": {},
   "outputs": [
    {
     "name": "stdout",
     "output_type": "stream",
     "text": [
      "+-------+--------------------+\n",
      "|summary|        registration|\n",
      "+-------+--------------------+\n",
      "|  count|              528005|\n",
      "|   mean|1.535523414862806...|\n",
      "| stddev|3.0787254929942865E9|\n",
      "|    min|       1509854193000|\n",
      "|    max|       1543073874000|\n",
      "+-------+--------------------+\n",
      "\n"
     ]
    }
   ],
   "source": [
    "# users registration number\n",
    "df.describe('registration').show()"
   ]
  },
  {
   "cell_type": "code",
   "execution_count": 13,
   "metadata": {},
   "outputs": [
    {
     "name": "stdout",
     "output_type": "stream",
     "text": [
      "+-------+------------------+\n",
      "|summary|         sessionId|\n",
      "+-------+------------------+\n",
      "|  count|            543705|\n",
      "|   mean|2040.8143533717732|\n",
      "| stddev|1434.3389310782754|\n",
      "|    min|                 1|\n",
      "|    max|              4808|\n",
      "+-------+------------------+\n",
      "\n"
     ]
    }
   ],
   "source": [
    "# Session ID\n",
    "df.describe('sessionId').show()"
   ]
  },
  {
   "cell_type": "code",
   "execution_count": 14,
   "metadata": {},
   "outputs": [
    {
     "name": "stdout",
     "output_type": "stream",
     "text": [
      "+-------+------------------+\n",
      "|summary|            status|\n",
      "+-------+------------------+\n",
      "|  count|            543705|\n",
      "|   mean|210.01829116892432|\n",
      "| stddev| 31.47191902156764|\n",
      "|    min|               200|\n",
      "|    max|               404|\n",
      "+-------+------------------+\n",
      "\n"
     ]
    }
   ],
   "source": [
    "# Web status (200 for OK, etc.)\n",
    "df.describe('status').show()"
   ]
  },
  {
   "cell_type": "code",
   "execution_count": 15,
   "metadata": {},
   "outputs": [
    {
     "name": "stdout",
     "output_type": "stream",
     "text": [
      "+-------+--------------------+\n",
      "|summary|                  ts|\n",
      "+-------+--------------------+\n",
      "|  count|              543705|\n",
      "|   mean|1.540964541209808E12|\n",
      "| stddev|1.4820571448945475E9|\n",
      "|    min|       1538352011000|\n",
      "|    max|       1543622466000|\n",
      "+-------+--------------------+\n",
      "\n"
     ]
    }
   ],
   "source": [
    "# ts: timestamp of current log\n",
    "df.describe('ts').show()"
   ]
  },
  {
   "cell_type": "markdown",
   "metadata": {},
   "source": [
    "2. Values in some categorical column."
   ]
  },
  {
   "cell_type": "code",
   "execution_count": 16,
   "metadata": {},
   "outputs": [
    {
     "name": "stdout",
     "output_type": "stream",
     "text": [
      "+--------------------+-----+\n",
      "|              artist|count|\n",
      "+--------------------+-----+\n",
      "|      The Black Keys| 2160|\n",
      "|        Yann Tiersen|  295|\n",
      "|    Jane's Addiction|  151|\n",
      "|          Tim Hughes|   54|\n",
      "|Dashboard Confess...|  206|\n",
      "|                Silk|   37|\n",
      "|Yonder Mountain S...|  126|\n",
      "|            La Shica|    1|\n",
      "|        Elvis Crespo|    8|\n",
      "|         Silverstein|   92|\n",
      "|         Eva Cassidy|   78|\n",
      "|        Generation X|   35|\n",
      "|     Robyn Hitchcock|    8|\n",
      "|           Kate Nash|  161|\n",
      "|       Jupiter Jones|   11|\n",
      "|           Los Lobos|   74|\n",
      "|               Rufio|   24|\n",
      "|     Drive Like Jehu|    1|\n",
      "|       Yuichi Tamate|    7|\n",
      "|      Jarabe De Palo|  142|\n",
      "+--------------------+-----+\n",
      "only showing top 20 rows\n",
      "\n"
     ]
    }
   ],
   "source": [
    "# artist\n",
    "df.groupBy('artist').count().show()"
   ]
  },
  {
   "cell_type": "code",
   "execution_count": 17,
   "metadata": {},
   "outputs": [
    {
     "name": "stdout",
     "output_type": "stream",
     "text": [
      "+--------------------+------+\n",
      "|              artist| count|\n",
      "+--------------------+------+\n",
      "|                null|110828|\n",
      "|                 !!!|    26|\n",
      "|        & And Oceans|     2|\n",
      "|        '68 Comeback|     3|\n",
      "|'N Sync/Phil Collins|     8|\n",
      "|        'Til Tuesday|     7|\n",
      "|'t Hof Van Commer...|     2|\n",
      "|       (Love) Tattoo|     2|\n",
      "|          (hed) p.e.|     7|\n",
      "|*NSYNC featuring ...|     1|\n",
      "|  + / - {Plus/Minus}|    40|\n",
      "|                 +44|    74|\n",
      "|          -123 minut|     1|\n",
      "|            -123min.|     4|\n",
      "|                 -M-|     3|\n",
      "|       ...And Oceans|     1|\n",
      "|...And You Will K...|    16|\n",
      "|           1 40 4 20|     3|\n",
      "|1 Giant Leap feat...|     3|\n",
      "|1 Giant Leap feat...|     7|\n",
      "+--------------------+------+\n",
      "only showing top 20 rows\n",
      "\n"
     ]
    }
   ],
   "source": [
    "df.groupBy('artist').count().sort('artist').show()"
   ]
  },
  {
   "cell_type": "code",
   "execution_count": 18,
   "metadata": {},
   "outputs": [
    {
     "name": "stdout",
     "output_type": "stream",
     "text": [
      "+----------+------+\n",
      "|      auth| count|\n",
      "+----------+------+\n",
      "|Logged Out| 15606|\n",
      "| Cancelled|    99|\n",
      "|     Guest|    94|\n",
      "| Logged In|527906|\n",
      "+----------+------+\n",
      "\n"
     ]
    }
   ],
   "source": [
    "# auth : whether or not the user is logged in\n",
    "df.groupBy('auth').count().show()"
   ]
  },
  {
   "cell_type": "code",
   "execution_count": 19,
   "metadata": {},
   "outputs": [
    {
     "name": "stdout",
     "output_type": "stream",
     "text": [
      "+------+------+\n",
      "|gender| count|\n",
      "+------+------+\n",
      "|     F|225393|\n",
      "|  null| 15700|\n",
      "|     M|302612|\n",
      "+------+------+\n",
      "\n"
     ]
    }
   ],
   "source": [
    "# gender : gender of the user\n",
    "df.groupBy('gender').count().show()"
   ]
  },
  {
   "cell_type": "code",
   "execution_count": 20,
   "metadata": {},
   "outputs": [
    {
     "name": "stdout",
     "output_type": "stream",
     "text": [
      "+-----+------+\n",
      "|level| count|\n",
      "+-----+------+\n",
      "| free|115108|\n",
      "| paid|428597|\n",
      "+-----+------+\n",
      "\n"
     ]
    }
   ],
   "source": [
    "# level : user level\n",
    "df.groupBy('level').count().show()"
   ]
  },
  {
   "cell_type": "code",
   "execution_count": 21,
   "metadata": {},
   "outputs": [
    {
     "name": "stdout",
     "output_type": "stream",
     "text": [
      "+-------------------------------------------+-----+\n",
      "|location                                   |count|\n",
      "+-------------------------------------------+-----+\n",
      "|New York-Newark-Jersey City, NY-NJ-PA      |40156|\n",
      "|Los Angeles-Long Beach-Anaheim, CA         |34278|\n",
      "|Boston-Cambridge-Newton, MA-NH             |17574|\n",
      "|null                                       |15700|\n",
      "|Chicago-Naperville-Elgin, IL-IN-WI         |15194|\n",
      "|San Francisco-Oakland-Hayward, CA          |11428|\n",
      "|Atlanta-Sandy Springs-Roswell, GA          |11211|\n",
      "|Phoenix-Mesa-Scottsdale, AZ                |11184|\n",
      "|Dallas-Fort Worth-Arlington, TX            |11061|\n",
      "|Denver-Aurora-Lakewood, CO                 |9808 |\n",
      "|Houston-The Woodlands-Sugar Land, TX       |8707 |\n",
      "|Tampa-St. Petersburg-Clearwater, FL        |8330 |\n",
      "|Miami-Fort Lauderdale-West Palm Beach, FL  |8180 |\n",
      "|Indianapolis-Carmel-Anderson, IN           |7691 |\n",
      "|Minneapolis-St. Paul-Bloomington, MN-WI    |7462 |\n",
      "|Louisville/Jefferson County, KY-IN         |7457 |\n",
      "|Fresno, CA                                 |7309 |\n",
      "|Sacramento--Roseville--Arden-Arcade, CA    |7098 |\n",
      "|Philadelphia-Camden-Wilmington, PA-NJ-DE-MD|6962 |\n",
      "|Kansas City, MO-KS                         |6956 |\n",
      "+-------------------------------------------+-----+\n",
      "only showing top 20 rows\n",
      "\n"
     ]
    }
   ],
   "source": [
    "# location : physical location of user\n",
    "df.groupBy('location').count().sort('count',ascending=False).show(truncate=False)"
   ]
  },
  {
   "cell_type": "code",
   "execution_count": 22,
   "metadata": {},
   "outputs": [
    {
     "name": "stdout",
     "output_type": "stream",
     "text": [
      "+--------------------+-----+\n",
      "|            location|count|\n",
      "+--------------------+-----+\n",
      "|                null|15700|\n",
      "|           Akron, OH|  223|\n",
      "|          Albany, OR| 1303|\n",
      "|Albany-Schenectad...|  307|\n",
      "|       Albemarle, NC| 6019|\n",
      "|      Alexandria, LA| 2020|\n",
      "|      Alexandria, MN| 1013|\n",
      "|Allentown-Bethleh...| 2617|\n",
      "|       Anchorage, AK| 1668|\n",
      "|        Appleton, WI| 6184|\n",
      "|          Athens, TX|   13|\n",
      "|Atlanta-Sandy Spr...|11211|\n",
      "|Atlantic City-Ham...| 2532|\n",
      "|          Auburn, IN|  825|\n",
      "|Augusta-Watervill...|  321|\n",
      "|Austin-Round Rock...| 4807|\n",
      "|     Bakersfield, CA| 4740|\n",
      "|Baltimore-Columbi...| 1911|\n",
      "|Beaumont-Port Art...|   33|\n",
      "|      Big Spring, TX| 1456|\n",
      "+--------------------+-----+\n",
      "only showing top 20 rows\n",
      "\n"
     ]
    }
   ],
   "source": [
    "# check any null value\n",
    "df.groupBy('location').count().sort('location').show()"
   ]
  },
  {
   "cell_type": "code",
   "execution_count": 23,
   "metadata": {},
   "outputs": [
    {
     "name": "stdout",
     "output_type": "stream",
     "text": [
      "+------+------+\n",
      "|method| count|\n",
      "+------+------+\n",
      "|   PUT|495143|\n",
      "|   GET| 48562|\n",
      "+------+------+\n",
      "\n"
     ]
    }
   ],
   "source": [
    "# method : requests(web calls)\n",
    "df.groupBy('method').count().show()"
   ]
  },
  {
   "cell_type": "code",
   "execution_count": 24,
   "metadata": {},
   "outputs": [
    {
     "name": "stdout",
     "output_type": "stream",
     "text": [
      "+-------------------------+------+\n",
      "|page                     |count |\n",
      "+-------------------------+------+\n",
      "|NextSong                 |432877|\n",
      "|Home                     |27412 |\n",
      "|Thumbs Up                |23826 |\n",
      "|Add to Playlist          |12349 |\n",
      "|Add Friend               |8087  |\n",
      "|Roll Advert              |7773  |\n",
      "|Login                    |6011  |\n",
      "|Logout                   |5990  |\n",
      "|Thumbs Down              |4911  |\n",
      "|Downgrade                |3811  |\n",
      "|Help                     |3150  |\n",
      "|Settings                 |2964  |\n",
      "|About                    |1855  |\n",
      "|Upgrade                  |968   |\n",
      "|Save Settings            |585   |\n",
      "|Error                    |519   |\n",
      "|Submit Upgrade           |287   |\n",
      "|Submit Downgrade         |117   |\n",
      "|Cancel                   |99    |\n",
      "|Cancellation Confirmation|99    |\n",
      "|Register                 |11    |\n",
      "|Submit Registration      |4     |\n",
      "+-------------------------+------+\n",
      "\n"
     ]
    }
   ],
   "source": [
    "# page : which page are users on in the site\n",
    "df.groupBy('page').count().sort('count', ascending=False).show(n=df.select('page').distinct().count(), truncate=False)"
   ]
  },
  {
   "cell_type": "code",
   "execution_count": 25,
   "metadata": {
    "scrolled": true
   },
   "outputs": [
    {
     "name": "stdout",
     "output_type": "stream",
     "text": [
      "+-------------------------------------------------------------------------------------------------------------------------------------------+-----+\n",
      "|userAgent                                                                                                                                  |count|\n",
      "+-------------------------------------------------------------------------------------------------------------------------------------------+-----+\n",
      "|\"Mozilla/5.0 (Macintosh; Intel Mac OS X 10_9_4) AppleWebKit/537.36 (KHTML, like Gecko) Chrome/36.0.1985.125 Safari/537.36\"                 |46082|\n",
      "|Mozilla/5.0 (Windows NT 6.1; WOW64; rv:31.0) Gecko/20100101 Firefox/31.0                                                                   |39456|\n",
      "|\"Mozilla/5.0 (Windows NT 6.1; WOW64) AppleWebKit/537.36 (KHTML, like Gecko) Chrome/36.0.1985.143 Safari/537.36\"                            |38551|\n",
      "|\"Mozilla/5.0 (Windows NT 6.1; WOW64) AppleWebKit/537.36 (KHTML, like Gecko) Chrome/36.0.1985.125 Safari/537.36\"                            |31702|\n",
      "|\"Mozilla/5.0 (Macintosh; Intel Mac OS X 10_9_4) AppleWebKit/537.77.4 (KHTML, like Gecko) Version/7.0.5 Safari/537.77.4\"                    |31653|\n",
      "|\"Mozilla/5.0 (Macintosh; Intel Mac OS X 10_9_4) AppleWebKit/537.36 (KHTML, like Gecko) Chrome/36.0.1985.143 Safari/537.36\"                 |24357|\n",
      "|\"Mozilla/5.0 (Macintosh; Intel Mac OS X 10_9_4) AppleWebKit/537.78.2 (KHTML, like Gecko) Version/7.0.6 Safari/537.78.2\"                    |18384|\n",
      "|\"Mozilla/5.0 (Macintosh; Intel Mac OS X 10_9_4) AppleWebKit/537.36 (KHTML, like Gecko) Chrome/37.0.2062.94 Safari/537.36\"                  |17518|\n",
      "|Mozilla/5.0 (Macintosh; Intel Mac OS X 10.9; rv:31.0) Gecko/20100101 Firefox/31.0                                                          |16137|\n",
      "|null                                                                                                                                       |15700|\n",
      "|\"Mozilla/5.0 (iPad; CPU OS 7_1_2 like Mac OS X) AppleWebKit/537.51.2 (KHTML, like Gecko) Version/7.0 Mobile/11D257 Safari/9537.53\"         |14370|\n",
      "|\"Mozilla/5.0 (Windows NT 6.3; WOW64) AppleWebKit/537.36 (KHTML, like Gecko) Chrome/36.0.1985.143 Safari/537.36\"                            |14350|\n",
      "|\"Mozilla/5.0 (Windows NT 6.3; WOW64) AppleWebKit/537.36 (KHTML, like Gecko) Chrome/36.0.1985.125 Safari/537.36\"                            |13484|\n",
      "|Mozilla/5.0 (Windows NT 6.3; WOW64; rv:31.0) Gecko/20100101 Firefox/31.0                                                                   |12874|\n",
      "|\"Mozilla/5.0 (iPhone; CPU iPhone OS 7_1_2 like Mac OS X) AppleWebKit/537.51.2 (KHTML, like Gecko) Version/7.0 Mobile/11D257 Safari/9537.53\"|10437|\n",
      "|\"Mozilla/5.0 (Windows NT 6.1; WOW64) AppleWebKit/537.36 (KHTML, like Gecko) Chrome/37.0.2062.94 Safari/537.36\"                             |10340|\n",
      "|Mozilla/5.0 (compatible; MSIE 9.0; Windows NT 6.1; WOW64; Trident/5.0)                                                                     |10301|\n",
      "|Mozilla/5.0 (Windows NT 6.1; WOW64; Trident/7.0; rv:11.0) like Gecko                                                                       |10153|\n",
      "|Mozilla/5.0 (Windows NT 6.1; WOW64; rv:30.0) Gecko/20100101 Firefox/30.0                                                                   |9735 |\n",
      "|\"Mozilla/5.0 (Windows NT 6.1) AppleWebKit/537.36 (KHTML, like Gecko) Chrome/36.0.1985.143 Safari/537.36\"                                   |8087 |\n",
      "+-------------------------------------------------------------------------------------------------------------------------------------------+-----+\n",
      "only showing top 20 rows\n",
      "\n"
     ]
    }
   ],
   "source": [
    "# userAgent: Type of browser user is on\n",
    "df.groupBy('userAgent').count().sort('count', ascending=False).show(truncate=False)"
   ]
  },
  {
   "cell_type": "code",
   "execution_count": 26,
   "metadata": {},
   "outputs": [
    {
     "name": "stdout",
     "output_type": "stream",
     "text": [
      "+--------------------------------------------------------------------------------------------------------------------------+-----+\n",
      "|userAgent                                                                                                                 |count|\n",
      "+--------------------------------------------------------------------------------------------------------------------------+-----+\n",
      "|null                                                                                                                      |15700|\n",
      "|\"Mozilla/5.0 (Macintosh; Intel Mac OS X 10_10) AppleWebKit/600.1.3 (KHTML, like Gecko) Version/8.0 Safari/600.1.3\"        |1800 |\n",
      "|\"Mozilla/5.0 (Macintosh; Intel Mac OS X 10_10) AppleWebKit/600.1.8 (KHTML, like Gecko) Version/8.0 Safari/600.1.8\"        |5566 |\n",
      "|\"Mozilla/5.0 (Macintosh; Intel Mac OS X 10_10_0) AppleWebKit/537.36 (KHTML, like Gecko) Chrome/37.0.2062.94 Safari/537.36\"|3793 |\n",
      "|\"Mozilla/5.0 (Macintosh; Intel Mac OS X 10_6_8) AppleWebKit/534.59.10 (KHTML, like Gecko) Version/5.1.9 Safari/534.59.10\" |1783 |\n",
      "+--------------------------------------------------------------------------------------------------------------------------+-----+\n",
      "only showing top 5 rows\n",
      "\n"
     ]
    }
   ],
   "source": [
    "df.groupBy('userAgent').count().sort('userAgent').show(n=5, truncate=False)"
   ]
  },
  {
   "cell_type": "code",
   "execution_count": 27,
   "metadata": {},
   "outputs": [
    {
     "name": "stdout",
     "output_type": "stream",
     "text": [
      "+------+------+\n",
      "|status| count|\n",
      "+------+------+\n",
      "|   200|493269|\n",
      "|   307| 49917|\n",
      "|   404|   519|\n",
      "+------+------+\n",
      "\n"
     ]
    }
   ],
   "source": [
    "# status: web status(200 for OK)\n",
    "df.groupBy('status').count().sort('count', ascending=False).show()"
   ]
  },
  {
   "cell_type": "code",
   "execution_count": 28,
   "metadata": {},
   "outputs": [
    {
     "data": {
      "text/plain": [
       "449"
      ]
     },
     "execution_count": 28,
     "metadata": {},
     "output_type": "execute_result"
    }
   ],
   "source": [
    "# userId : userID for user\n",
    "# number of unique users\n",
    "df.select('userId').distinct().count()"
   ]
  },
  {
   "cell_type": "code",
   "execution_count": 29,
   "metadata": {},
   "outputs": [
    {
     "name": "stdout",
     "output_type": "stream",
     "text": [
      "+------+-----+\n",
      "|userId|count|\n",
      "+------+-----+\n",
      "|      |15700|\n",
      "|    10|  423|\n",
      "|   100| 3999|\n",
      "|100001|  134|\n",
      "|100002|  177|\n",
      "|100003|  827|\n",
      "|100004|  373|\n",
      "|100005|  100|\n",
      "|100006|  375|\n",
      "|100007| 1052|\n",
      "|100008|  463|\n",
      "|100009| 2987|\n",
      "|100010|  137|\n",
      "|100011| 1303|\n",
      "|100012|  167|\n",
      "|100013|   27|\n",
      "|100014|  406|\n",
      "|100015|  529|\n",
      "|100016|  200|\n",
      "|100017|  178|\n",
      "+------+-----+\n",
      "only showing top 20 rows\n",
      "\n"
     ]
    }
   ],
   "source": [
    "# values in userId\n",
    "df.groupBy('userId').count().sort('userId').show()"
   ]
  },
  {
   "cell_type": "markdown",
   "metadata": {},
   "source": [
    "**Observations in data exploration:**   \n",
    "1. No duplicated user log record in this dataset;   \n",
    "2. Missing values exist in several columns(artist, gender, length, location, registration, userAgent), we need to take further cleaning step if we use them in the model building process;   \n",
    "3. userId has the empty string as a value, we need to take further cleaning step if we use them in the model building process;   \n",
    "4. There are 448 unique userID in this dataset;   \n",
    "5. The datatype of timestamp of the current song and registration could be transformed into date or other type, which provide more information about the user behavior."
   ]
  },
  {
   "cell_type": "markdown",
   "metadata": {},
   "source": [
    "# Clean the dataset\n",
    "\n"
   ]
  },
  {
   "cell_type": "code",
   "execution_count": 30,
   "metadata": {},
   "outputs": [],
   "source": [
    "# define a function to check missing or invalid data in each column \n",
    "# https://www.xspdf.com/resolution/58823266.html\n",
    "# https://spark.apache.org/docs/latest/api/python/pyspark.sql.html#pyspark.sql.functions.isnan\n",
    "def check_na(df):\n",
    "    '''\n",
    "       Returns the counts of missing values per column\n",
    "    '''\n",
    "    for col in df.columns:\n",
    "        counts_miss = df.filter(isnull(df[col])| isnan(df[col])| (df[col] == '')).count()\n",
    "        print(f'{col} : {counts_miss}')"
   ]
  },
  {
   "cell_type": "code",
   "execution_count": 31,
   "metadata": {},
   "outputs": [
    {
     "name": "stdout",
     "output_type": "stream",
     "text": [
      "artist : 110828\n",
      "auth : 0\n",
      "firstName : 15700\n",
      "gender : 15700\n",
      "itemInSession : 0\n",
      "lastName : 15700\n",
      "length : 110828\n",
      "level : 0\n",
      "location : 15700\n",
      "method : 0\n",
      "page : 0\n",
      "registration : 15700\n",
      "sessionId : 0\n",
      "song : 110829\n",
      "status : 0\n",
      "ts : 0\n",
      "userAgent : 15700\n",
      "userId : 15700\n"
     ]
    }
   ],
   "source": [
    "check_na(df)"
   ]
  },
  {
   "cell_type": "markdown",
   "metadata": {},
   "source": [
    "Since the invalid userId counts not much(nearly 3%) of the total records, we decided to drop them."
   ]
  },
  {
   "cell_type": "code",
   "execution_count": 32,
   "metadata": {},
   "outputs": [
    {
     "name": "stdout",
     "output_type": "stream",
     "text": [
      "artist : 95128\n",
      "auth : 0\n",
      "firstName : 0\n",
      "gender : 0\n",
      "itemInSession : 0\n",
      "lastName : 0\n",
      "length : 95128\n",
      "level : 0\n",
      "location : 0\n",
      "method : 0\n",
      "page : 0\n",
      "registration : 0\n",
      "sessionId : 0\n",
      "song : 95129\n",
      "status : 0\n",
      "ts : 0\n",
      "userAgent : 0\n",
      "userId : 0\n"
     ]
    }
   ],
   "source": [
    "# drop those missing and invalid records when userId is invalid\n",
    "for c in df.columns:\n",
    "    df_valid = df.filter(~isnull(df[c])& ~isnan(df[c])& (df[c] != ''))\n",
    "check_na(df_valid)"
   ]
  },
  {
   "cell_type": "markdown",
   "metadata": {},
   "source": [
    "Now we still have 95129 missing data points in artist, length and song columns.Those are all data revelent to song played.This is because the fact that the nature of this dataset is the user log data,which contains all kinds of user behavior(not just focusing on listening songs). "
   ]
  },
  {
   "cell_type": "code",
   "execution_count": 33,
   "metadata": {},
   "outputs": [
    {
     "name": "stdout",
     "output_type": "stream",
     "text": [
      "+-------------+---------+---------+------+-------------+--------+---------+-----+------------------+------+--------+-------------+---------+-------------+------+-------------+--------------------+------+----------+-----------------+\n",
      "|       artist|     auth|firstName|gender|itemInSession|lastName|   length|level|          location|method|    page| registration|sessionId|         song|status|           ts|           userAgent|userId|      date|registration_date|\n",
      "+-------------+---------+---------+------+-------------+--------+---------+-----+------------------+------+--------+-------------+---------+-------------+------+-------------+--------------------+------+----------+-----------------+\n",
      "|Martin Orford|Logged In|   Joseph|     M|           20| Morales|597.55057| free|Corpus Christi, TX|   PUT|NextSong|1532063507000|      292|Grand Designs|   200|1538352011000|\"Mozilla/5.0 (Mac...|   293|2018-10-01|       2018-07-20|\n",
      "+-------------+---------+---------+------+-------------+--------+---------+-----+------------------+------+--------+-------------+---------+-------------+------+-------------+--------------------+------+----------+-----------------+\n",
      "only showing top 1 row\n",
      "\n"
     ]
    }
   ],
   "source": [
    "# convert the timestamp() into data in ts column\n",
    "# https://stackoverflow.com/questions/45977449/convert-timestamp-to-date-in-spark-dataframe\n",
    "# https://sparkbyexamples.com/spark/spark-convert-timestamp-to-date/\n",
    "df_valid = df_valid.withColumn('date', to_date((col('ts')/1000).cast('timestamp'))).withColumn('registration_date', to_date((col('registration')/1000).cast('timestamp')))\n",
    "df_valid.show(1)"
   ]
  },
  {
   "cell_type": "code",
   "execution_count": 34,
   "metadata": {},
   "outputs": [
    {
     "name": "stdout",
     "output_type": "stream",
     "text": [
      "+----+\n",
      "|time|\n",
      "+----+\n",
      "|  12|\n",
      "|  22|\n",
      "|   1|\n",
      "|  13|\n",
      "|   6|\n",
      "|  16|\n",
      "|   3|\n",
      "|  20|\n",
      "|   5|\n",
      "|  19|\n",
      "|  15|\n",
      "|   9|\n",
      "|  17|\n",
      "|   4|\n",
      "|   8|\n",
      "|  23|\n",
      "|   7|\n",
      "|  10|\n",
      "|  21|\n",
      "|  11|\n",
      "+----+\n",
      "only showing top 20 rows\n",
      "\n"
     ]
    }
   ],
   "source": [
    "# convert the timestamp into datetime\n",
    "# https://sparkbyexamples.com/spark/spark-extract-hour-minute-and-second-from-timestamp/\n",
    "df_valid = df_valid.withColumn('time', hour((col('ts')/1000).cast('timestamp')))\n",
    "df_valid.select('time').distinct().show()"
   ]
  },
  {
   "cell_type": "code",
   "execution_count": 35,
   "metadata": {},
   "outputs": [
    {
     "name": "stdout",
     "output_type": "stream",
     "text": [
      "+-------------+---------+---------+------+-------------+--------+---------+-----+------------------+------+--------+-------------+---------+-------------+------+-------------+--------------------+------+----------+-----------------+----+-----+\n",
      "|       artist|     auth|firstName|gender|itemInSession|lastName|   length|level|          location|method|    page| registration|sessionId|         song|status|           ts|           userAgent|userId|      date|registration_date|time|state|\n",
      "+-------------+---------+---------+------+-------------+--------+---------+-----+------------------+------+--------+-------------+---------+-------------+------+-------------+--------------------+------+----------+-----------------+----+-----+\n",
      "|Martin Orford|Logged In|   Joseph|     M|           20| Morales|597.55057| free|Corpus Christi, TX|   PUT|NextSong|1532063507000|      292|Grand Designs|   200|1538352011000|\"Mozilla/5.0 (Mac...|   293|2018-10-01|       2018-07-20|   2|   TX|\n",
      "+-------------+---------+---------+------+-------------+--------+---------+-----+------------------+------+--------+-------------+---------+-------------+------+-------------+--------------------+------+----------+-----------------+----+-----+\n",
      "only showing top 1 row\n",
      "\n"
     ]
    }
   ],
   "source": [
    "# add a state column according to the location column\n",
    "# https://www.datasciencemadesimple.com/string-split-of-the-columns-in-pyspark/\n",
    "df_valid = df_valid.withColumn('state', split(col('location'), ',').getItem(1))\n",
    "df_valid.show(1)"
   ]
  },
  {
   "cell_type": "code",
   "execution_count": 36,
   "metadata": {},
   "outputs": [],
   "source": [
    "# drop unrelevent columns\n",
    "df_valid = df_valid.drop('userAgent', 'method','registration', 'status', 'userAgent')"
   ]
  },
  {
   "cell_type": "code",
   "execution_count": 37,
   "metadata": {},
   "outputs": [
    {
     "name": "stdout",
     "output_type": "stream",
     "text": [
      "root\n",
      " |-- artist: string (nullable = true)\n",
      " |-- auth: string (nullable = true)\n",
      " |-- firstName: string (nullable = true)\n",
      " |-- gender: string (nullable = true)\n",
      " |-- itemInSession: long (nullable = true)\n",
      " |-- lastName: string (nullable = true)\n",
      " |-- length: double (nullable = true)\n",
      " |-- level: string (nullable = true)\n",
      " |-- location: string (nullable = true)\n",
      " |-- page: string (nullable = true)\n",
      " |-- sessionId: long (nullable = true)\n",
      " |-- song: string (nullable = true)\n",
      " |-- ts: long (nullable = true)\n",
      " |-- userId: string (nullable = true)\n",
      " |-- date: date (nullable = true)\n",
      " |-- registration_date: date (nullable = true)\n",
      " |-- time: integer (nullable = true)\n",
      " |-- state: string (nullable = true)\n",
      "\n"
     ]
    }
   ],
   "source": [
    "df_valid.printSchema()"
   ]
  },
  {
   "cell_type": "code",
   "execution_count": 38,
   "metadata": {},
   "outputs": [
    {
     "data": {
      "text/plain": [
       "528005"
      ]
     },
     "execution_count": 38,
     "metadata": {},
     "output_type": "execute_result"
    }
   ],
   "source": [
    "df_valid.count()"
   ]
  },
  {
   "cell_type": "markdown",
   "metadata": {},
   "source": [
    "In this stage, we get the clean dataset with valid data and add two coulmns about the time and date for later modeling.There are 528005 rows in clean dataset."
   ]
  },
  {
   "cell_type": "markdown",
   "metadata": {},
   "source": [
    "# Data Analysis\n",
    "\n",
    "### Define Churn   \n",
    "\n",
    "Once we've done the preliminary analysis, we need to define the churn used as the label for our model. According to the above information, we could use \"Cancellation Confirmation\" and \"Downgrade\" events to define the churn, which happened for both paid and free users."
   ]
  },
  {
   "cell_type": "code",
   "execution_count": 39,
   "metadata": {},
   "outputs": [
    {
     "name": "stdout",
     "output_type": "stream",
     "text": [
      "+---------+------+-------------+-----+--------------------+--------------------+---------+------+----------+----+\n",
      "|     auth|gender|itemInSession|level|            location|                page|sessionId|userId|      date|time|\n",
      "+---------+------+-------------+-----+--------------------+--------------------+---------+------+----------+----+\n",
      "|Cancelled|     F|           40| free|      Fort Wayne, IN|Cancellation Conf...|      490|   208|2018-10-01|  15|\n",
      "|Cancelled|     F|          234| paid|        Columbus, OH|Cancellation Conf...|      471|   231|2018-10-02|  14|\n",
      "|Cancelled|     M|          109| paid|Grand Rapids-Wyom...|Cancellation Conf...|      682|   236|2018-10-03|   6|\n",
      "|Cancelled|     M|           66| free|   Bowling Green, KY|Cancellation Conf...|      628|   156|2018-10-03|  20|\n",
      "|Cancelled|     M|          227| paid|         Roanoke, VA|Cancellation Conf...|      395|   271|2018-10-05|  22|\n",
      "|Cancelled|     M|          193| paid|Seattle-Tacoma-Be...|Cancellation Conf...|      862|   200|2018-10-06|   6|\n",
      "|Cancelled|     M|            9| free|Bridgeport-Stamfo...|Cancellation Conf...|     1027|   130|2018-10-07|   7|\n",
      "|Cancelled|     M|           56| free|Tampa-St. Petersb...|Cancellation Conf...|      480|   123|2018-10-08|   2|\n",
      "|Cancelled|     F|            7| paid|Spokane-Spokane V...|Cancellation Conf...|     1010|    54|2018-10-08|  10|\n",
      "|Cancelled|     F|           82| paid|Los Angeles-Long ...|Cancellation Conf...|     1066|    39|2018-10-08|  17|\n",
      "|Cancelled|     M|           17| free|San Francisco-Oak...|Cancellation Conf...|     1035|   154|2018-10-08|  18|\n",
      "|Cancelled|     F|            3| paid|Denver-Aurora-Lak...|Cancellation Conf...|      659|   132|2018-10-09|   1|\n",
      "|Cancelled|     M|          435| paid|          Laurel, MS|Cancellation Conf...|        9|    10|2018-10-09|   5|\n",
      "|Cancelled|     F|           20| paid|Allentown-Bethleh...|Cancellation Conf...|     1228|   296|2018-10-10|  18|\n",
      "|Cancelled|     F|           39| free|Chicago-Napervill...|Cancellation Conf...|      817|   187|2018-10-11|   1|\n",
      "|Cancelled|     M|          180| paid|Lexington-Fayette...|Cancellation Conf...|     1443|    51|2018-10-16|  19|\n",
      "|Cancelled|     F|           83| paid|Philadelphia-Camd...|Cancellation Conf...|     1796|    13|2018-10-17|  11|\n",
      "|Cancelled|     M|           36| paid|Phoenix-Mesa-Scot...|Cancellation Conf...|     1881|    32|2018-10-18|   5|\n",
      "|Cancelled|     F|           48| paid|New Philadelphia-...|Cancellation Conf...|     1927|    28|2018-10-19|  18|\n",
      "|Cancelled|     F|           38| paid|          Gallup, NM|Cancellation Conf...|     2206|   198|2018-10-25|  17|\n",
      "+---------+------+-------------+-----+--------------------+--------------------+---------+------+----------+----+\n",
      "only showing top 20 rows\n",
      "\n"
     ]
    }
   ],
   "source": [
    "# take a look at rows when pages are cancellation conformation\n",
    "df_valid.select(['auth', 'gender', 'itemInSession', 'level', 'location', 'page', 'sessionId', 'userId', 'date', 'time']).where(df_valid['page']=='Cancellation Confirmation').show()"
   ]
  },
  {
   "cell_type": "markdown",
   "metadata": {},
   "source": [
    "The auth column is full with \"Cancelled\". It confirms that whenever user is in \"Cancellation Confirmation\" page, the user cancels the auth. "
   ]
  },
  {
   "cell_type": "code",
   "execution_count": 40,
   "metadata": {},
   "outputs": [
    {
     "data": {
      "text/plain": [
       "0"
      ]
     },
     "execution_count": 40,
     "metadata": {},
     "output_type": "execute_result"
    }
   ],
   "source": [
    "df_valid.filter((df_valid.auth != 'Cancelled') & (df_valid.page == 'Cancellation Confirmation')).count()"
   ]
  },
  {
   "cell_type": "markdown",
   "metadata": {},
   "source": [
    "It confirms the relationship between auth = 'Cancelled' and page = 'Cancellation Confirmation', so either of them can define churn."
   ]
  },
  {
   "cell_type": "code",
   "execution_count": 41,
   "metadata": {},
   "outputs": [
    {
     "name": "stdout",
     "output_type": "stream",
     "text": [
      "+---------+------+--------------------+-----+--------------------+---------+------+----------+----+\n",
      "|     auth|gender|                song|level|                page|sessionId|userId|      date|time|\n",
      "+---------+------+--------------------+-----+--------------------+---------+------+----------+----+\n",
      "|Logged In|     F|I'll Try Anything...| free|            NextSong|      490|   208|2018-10-01|  15|\n",
      "|Logged In|     F|Horn Concerto No....| free|            NextSong|      490|   208|2018-10-01|  15|\n",
      "|Logged In|     F|Nothing Better (A...| free|            NextSong|      490|   208|2018-10-01|  15|\n",
      "|Logged In|     F|Do You Believe In...| free|            NextSong|      490|   208|2018-10-01|  15|\n",
      "|Logged In|     F|          Hasta Ayer| free|            NextSong|      490|   208|2018-10-01|  15|\n",
      "|Logged In|     F|Must Be Doin' Som...| free|            NextSong|      490|   208|2018-10-01|  15|\n",
      "|Logged In|     F|             Revelry| free|            NextSong|      490|   208|2018-10-01|  15|\n",
      "|Logged In|     F|                null| free|          Add Friend|      490|   208|2018-10-01|  15|\n",
      "|Logged In|     F|     WÃÂ¼tend Genug| free|            NextSong|      490|   208|2018-10-01|  15|\n",
      "|Logged In|     F|                null| free|            Settings|      490|   208|2018-10-01|  15|\n",
      "|Logged In|     F|                null| free|              Cancel|      490|   208|2018-10-01|  15|\n",
      "|Cancelled|     F|                null| free|Cancellation Conf...|      490|   208|2018-10-01|  15|\n",
      "+---------+------+--------------------+-----+--------------------+---------+------+----------+----+\n",
      "\n"
     ]
    }
   ],
   "source": [
    "# userId 208 user behavior before churning and after churning\n",
    "df_valid.select(['auth', 'gender', 'song', 'level', 'page', 'sessionId', 'userId', 'date', 'time']).where((df_valid.userId == 208) & (df_valid.time >= 15 )).show()"
   ]
  },
  {
   "cell_type": "markdown",
   "metadata": {},
   "source": [
    "When user 208 confirmed the cancellation, there is no user log any more which means he/she stopped using Sparkify."
   ]
  },
  {
   "cell_type": "code",
   "execution_count": 42,
   "metadata": {},
   "outputs": [
    {
     "name": "stdout",
     "output_type": "stream",
     "text": [
      "+---------+------+-------------+-----+--------------------+----------------+---------+------+----------+----+\n",
      "|     auth|gender|itemInSession|level|            location|            page|sessionId|userId|      date|time|\n",
      "+---------+------+-------------+-----+--------------------+----------------+---------+------+----------+----+\n",
      "|Logged In|     M|          117| paid|Chicago-Napervill...|Submit Downgrade|      287|   288|2018-10-01|  10|\n",
      "|Logged In|     F|          105| paid|Dallas-Fort Worth...|Submit Downgrade|      537|   127|2018-10-02|   4|\n",
      "|Logged In|     M|           10| paid|Chicago-Napervill...|Submit Downgrade|      723|   174|2018-10-03|  10|\n",
      "|Logged In|     M|          127| paid|Houston-The Woodl...|Submit Downgrade|      826|     6|2018-10-05|  14|\n",
      "|Logged In|     M|          125| paid|  Corpus Christi, TX|Submit Downgrade|      899|   293|2018-10-05|  16|\n",
      "|Logged In|     F|          142| paid|      Pittsburgh, PA|Submit Downgrade|      393|   145|2018-10-05|  21|\n",
      "|Logged In|     F|          113| paid|Tullahoma-Manches...|Submit Downgrade|     1139|   157|2018-10-10|  12|\n",
      "|Logged In|     M|           27| paid|        Kankakee, IL|Submit Downgrade|     1156|    21|2018-10-10|  22|\n",
      "|Logged In|     M|           28| paid|Hagerstown-Martin...|Submit Downgrade|     1245|   251|2018-10-11|  13|\n",
      "|Logged In|     F|           85| paid|          Mobile, AL|Submit Downgrade|     1330|   246|2018-10-11|  21|\n",
      "|Logged In|     F|          223| paid|Indianapolis-Carm...|Submit Downgrade|     1377|   269|2018-10-12|   9|\n",
      "|Logged In|     M|            8| paid|Fort Madison-Keok...|Submit Downgrade|      500|   289|2018-10-12|  10|\n",
      "|Logged In|     M|           49| paid|Oxnard-Thousand O...|Submit Downgrade|     1248|   121|2018-10-12|  14|\n",
      "|Logged In|     F|          105| paid|San Antonio-New B...|Submit Downgrade|      386|   245|2018-10-12|  15|\n",
      "|Logged In|     M|          362| paid|       Knoxville, TN|Submit Downgrade|     1447|   250|2018-10-13|   8|\n",
      "|Logged In|     F|           11| paid|Boston-Cambridge-...|Submit Downgrade|     1604|    92|2018-10-15|   4|\n",
      "|Logged In|     M|          393| paid|         Concord, NH|Submit Downgrade|     1600|    65|2018-10-15|  14|\n",
      "|Logged In|     M|           24| paid|Los Angeles-Long ...|Submit Downgrade|     1589|    76|2018-10-16|  18|\n",
      "|Logged In|     F|           36| paid|Los Angeles-Long ...|Submit Downgrade|     1542|   235|2018-10-17|  18|\n",
      "|Logged In|     M|           59| paid|Los Angeles-Long ...|Submit Downgrade|     1588|   190|2018-10-17|  19|\n",
      "+---------+------+-------------+-----+--------------------+----------------+---------+------+----------+----+\n",
      "only showing top 20 rows\n",
      "\n"
     ]
    }
   ],
   "source": [
    "# take a look at rows when pages are Submit Downgrade\n",
    "df_valid.select(['auth', 'gender', 'itemInSession', 'level', 'location', 'page', 'sessionId', 'userId', 'date', 'time']).where(df_valid['page']=='Submit Downgrade').show()"
   ]
  },
  {
   "cell_type": "code",
   "execution_count": 43,
   "metadata": {
    "scrolled": true
   },
   "outputs": [
    {
     "name": "stdout",
     "output_type": "stream",
     "text": [
      "+------+--------------------+-----+----------------+---------+----------+----+\n",
      "|userId|                song|level|            page|sessionId|      date|time|\n",
      "+------+--------------------+-----+----------------+---------+----------+----+\n",
      "|     6|      Drop The World| paid|        NextSong|      826|2018-10-05|  14|\n",
      "|     6|       All My Senses| paid|        NextSong|      826|2018-10-05|  14|\n",
      "|     6|                 Sin| paid|        NextSong|      826|2018-10-05|  14|\n",
      "|     6|Ocean Breathes Salty| paid|        NextSong|      826|2018-10-05|  14|\n",
      "|     6|             Society| paid|        NextSong|      826|2018-10-05|  14|\n",
      "|     6|                null| paid|       Thumbs Up|      826|2018-10-05|  14|\n",
      "|     6|                null| paid| Add to Playlist|      826|2018-10-05|  14|\n",
      "|     6|         Bittersweet| paid|        NextSong|      826|2018-10-05|  14|\n",
      "|     6|           GissiÃÂ©| paid|        NextSong|      826|2018-10-05|  14|\n",
      "|     6|                null| paid|       Downgrade|      826|2018-10-05|  14|\n",
      "|     6|                null| paid|Submit Downgrade|      826|2018-10-05|  14|\n",
      "|     6|                null| free|            Home|      826|2018-10-05|  14|\n",
      "|     6|      Hope Hung High| free|        NextSong|      826|2018-10-05|  14|\n",
      "|     6|           Good Life| free|        NextSong|      826|2018-10-05|  14|\n",
      "|     6|          Brianstorm| free|        NextSong|      826|2018-10-05|  14|\n",
      "|     6|       I'm So Bitter| free|        NextSong|      826|2018-10-05|  14|\n",
      "|     6|   Siguiendo La Luna| free|        NextSong|      826|2018-10-05|  14|\n",
      "|     6|     Too Hot Ta Trot| free|        NextSong|      826|2018-10-05|  14|\n",
      "|     6|Un-thinkable (I'm...| free|        NextSong|      826|2018-10-05|  14|\n",
      "|     6|      Feel That Fire| free|        NextSong|      826|2018-10-05|  14|\n",
      "+------+--------------------+-----+----------------+---------+----------+----+\n",
      "only showing top 20 rows\n",
      "\n"
     ]
    }
   ],
   "source": [
    "# userId 6 user behavior before downgrading and after downgrading\n",
    "df_valid.select(['userId', 'song', 'level', 'page', 'sessionId', 'date', 'time']).where((df_valid.userId == 6) & (df_valid.time >= 14) & (df_valid.time <= 15)).show()"
   ]
  },
  {
   "cell_type": "markdown",
   "metadata": {},
   "source": [
    "When the user is in the page \"Submit Downgrade\", his/her level changed from the paid user to a free user which means he or she churned the paid service but still using the Sparkify as a free user.  \n",
    "\n",
    "Now we could define the user churning into 2 ways, churning product(stop using Sparkify) and churning serive(unsubscribe the paid service). We decided to use both of them as the user churning to predict the risk of stopping using Sparkify or cancel the subsciption in Sparkify. "
   ]
  },
  {
   "cell_type": "code",
   "execution_count": 44,
   "metadata": {},
   "outputs": [],
   "source": [
    "def churn_label(df, page_status, phase_name, label_name):\n",
    "    '''\n",
    "    Add the churn label column to dataframe.The value of this label column is either 0 or 1.\n",
    "    \n",
    "    Arguments:\n",
    "        df: the dataframe of interest\n",
    "        page_status: \"Submit Downgrade\" or \"Cancellation Confirmation\", the sign of user churning activity\n",
    "        phase_name: the name of the column which indicates the phase status\n",
    "        label_name: the name of the column which indicates churning status\n",
    "        \n",
    "    Output:\n",
    "        return the dataframe with the label column\n",
    "    '''\n",
    "    # check the churning event and add the column with event corresponding name \n",
    "    churn_event = udf(lambda x: 1 if x == page_status else 0, IntegerType())\n",
    "    df_event = df.withColumn(page_status, churn_event('page'))\n",
    "    \n",
    "    # add phase column to see the change of status when user churned mutiple times\n",
    "    # use window function to compute rows with all preceding rows in reverse order for specific user\n",
    "    windowval = Window.partitionBy('userId').orderBy(desc('ts')).rangeBetween(Window.unboundedPreceding, 0)\n",
    "    df_phase = df_event.withColumn(phase_name, fsum(page_status).over(windowval))\n",
    "    \n",
    "    # add the churn label column according to corresponding page status for each user\n",
    "    df_label = df_phase.withColumn(label_name, fmax(page_status).over(Window.partitionBy('userId')))\n",
    "    \n",
    "    return df_label"
   ]
  },
  {
   "cell_type": "code",
   "execution_count": 45,
   "metadata": {},
   "outputs": [],
   "source": [
    "# add churning activity label to dataframe for each churning activity\n",
    "df_label = churn_label(df_valid, 'Cancellation Confirmation', 'cancel_phase', 'churn_cancel')\n",
    "df_label = churn_label(df_label, 'Submit Downgrade', 'downgrade_phase', 'churn_downgrade')"
   ]
  },
  {
   "cell_type": "code",
   "execution_count": 46,
   "metadata": {},
   "outputs": [
    {
     "name": "stdout",
     "output_type": "stream",
     "text": [
      "+------+--------------------+------------+------------+---------------+---------------+\n",
      "|userId|                page|cancel_phase|churn_cancel|downgrade_phase|churn_downgrade|\n",
      "+------+--------------------+------------+------------+---------------+---------------+\n",
      "|100010|Cancellation Conf...|           1|           1|              0|              0|\n",
      "|100010|              Cancel|           1|           1|              0|              0|\n",
      "|100010|         Roll Advert|           1|           1|              0|              0|\n",
      "|100010|            NextSong|           1|           1|              0|              0|\n",
      "|100010|            NextSong|           1|           1|              0|              0|\n",
      "|100010|         Roll Advert|           1|           1|              0|              0|\n",
      "|100010|            NextSong|           1|           1|              0|              0|\n",
      "|100010|            NextSong|           1|           1|              0|              0|\n",
      "|100010|         Thumbs Down|           1|           1|              0|              0|\n",
      "|100010|            NextSong|           1|           1|              0|              0|\n",
      "|100010|            NextSong|           1|           1|              0|              0|\n",
      "|100010|            NextSong|           1|           1|              0|              0|\n",
      "|100010|            NextSong|           1|           1|              0|              0|\n",
      "|100010|            NextSong|           1|           1|              0|              0|\n",
      "|100010|            NextSong|           1|           1|              0|              0|\n",
      "|100010|            NextSong|           1|           1|              0|              0|\n",
      "|100010|            NextSong|           1|           1|              0|              0|\n",
      "|100010|            NextSong|           1|           1|              0|              0|\n",
      "|100010|            NextSong|           1|           1|              0|              0|\n",
      "|100010|            NextSong|           1|           1|              0|              0|\n",
      "+------+--------------------+------------+------------+---------------+---------------+\n",
      "only showing top 20 rows\n",
      "\n"
     ]
    }
   ],
   "source": [
    "df_label.select([\"userId\", \"page\", \"cancel_phase\", \"churn_cancel\", \"downgrade_phase\", \"churn_downgrade\"]).show()"
   ]
  },
  {
   "cell_type": "code",
   "execution_count": 47,
   "metadata": {},
   "outputs": [
    {
     "name": "stdout",
     "output_type": "stream",
     "text": [
      "Percentage of users who both downgraded and churned Sparkify in this period: 4.69%.\n"
     ]
    }
   ],
   "source": [
    "# users who not only churned subscription but also churned Sparkify\n",
    "churn_both = df_label.where((df_label.churn_cancel == 1)&(df_label.churn_downgrade == 1)).select('userId').distinct().count()\n",
    "num_user = df_label.select('userId').distinct().count()\n",
    "print(f'Percentage of users who both downgraded and churned Sparkify in this period: {(churn_both/num_user)*100:.2f}%.')"
   ]
  },
  {
   "cell_type": "code",
   "execution_count": 48,
   "metadata": {},
   "outputs": [
    {
     "name": "stdout",
     "output_type": "stream",
     "text": [
      "Percentage of users who churned Sparkify in this period: 22.10%.\n"
     ]
    }
   ],
   "source": [
    "# users who churned Sparkify\n",
    "churn_c = df_label.where(df_label.churn_cancel == 1).select('userId').distinct().count()\n",
    "print(f'Percentage of users who churned Sparkify in this period: {(churn_c/num_user)*100:.2f}%.')"
   ]
  },
  {
   "cell_type": "code",
   "execution_count": 49,
   "metadata": {},
   "outputs": [
    {
     "name": "stdout",
     "output_type": "stream",
     "text": [
      "Percentage of users who churned subscription in this period: 21.65%.\n"
     ]
    }
   ],
   "source": [
    "# users who churned subscription\n",
    "churn_d = df_label.where(df_label.churn_downgrade == 1).select('userId').distinct().count()\n",
    "print(f'Percentage of users who churned subscription in this period: {(churn_d/num_user)*100:.2f}%.')"
   ]
  },
  {
   "cell_type": "markdown",
   "metadata": {},
   "source": [
    "In this stage, we define the user churning in two ways, either churning Sparkify or subscription. We found that there are 22.10% of users churned Sparkify and 21.65% of users churned subscription in this period of time considered, especially 4.69% of users did both churning. \n",
    "\n",
    "### Exploratory Analysis\n",
    "Observe the difference of user behavior between user who churned and who didn't.(Eg.: gender, level, location, listening time, degree of activity, lifetime of users and so on)   \n",
    "\n",
    "**Impact of gender in churn pattern**"
   ]
  },
  {
   "cell_type": "code",
   "execution_count": 50,
   "metadata": {},
   "outputs": [
    {
     "data": {
      "text/html": [
       "<div>\n",
       "<style scoped>\n",
       "    .dataframe tbody tr th:only-of-type {\n",
       "        vertical-align: middle;\n",
       "    }\n",
       "\n",
       "    .dataframe tbody tr th {\n",
       "        vertical-align: top;\n",
       "    }\n",
       "\n",
       "    .dataframe thead th {\n",
       "        text-align: right;\n",
       "    }\n",
       "</style>\n",
       "<table border=\"1\" class=\"dataframe\">\n",
       "  <thead>\n",
       "    <tr style=\"text-align: right;\">\n",
       "      <th></th>\n",
       "      <th>churn_cancel</th>\n",
       "      <th>gender</th>\n",
       "      <th>count</th>\n",
       "    </tr>\n",
       "  </thead>\n",
       "  <tbody>\n",
       "    <tr>\n",
       "      <th>0</th>\n",
       "      <td>1</td>\n",
       "      <td>F</td>\n",
       "      <td>45</td>\n",
       "    </tr>\n",
       "    <tr>\n",
       "      <th>1</th>\n",
       "      <td>0</td>\n",
       "      <td>M</td>\n",
       "      <td>196</td>\n",
       "    </tr>\n",
       "    <tr>\n",
       "      <th>2</th>\n",
       "      <td>1</td>\n",
       "      <td>M</td>\n",
       "      <td>54</td>\n",
       "    </tr>\n",
       "    <tr>\n",
       "      <th>3</th>\n",
       "      <td>0</td>\n",
       "      <td>F</td>\n",
       "      <td>153</td>\n",
       "    </tr>\n",
       "  </tbody>\n",
       "</table>\n",
       "</div>"
      ],
      "text/plain": [
       "   churn_cancel gender  count\n",
       "0             1      F     45\n",
       "1             0      M    196\n",
       "2             1      M     54\n",
       "3             0      F    153"
      ]
     },
     "execution_count": 50,
     "metadata": {},
     "output_type": "execute_result"
    }
   ],
   "source": [
    "# since the gender and churn_cancel label columns directly change with the change in userid, we can drop the duplicated records on the same userid\n",
    "gender_pd_cancel = df_label.dropDuplicates(['userId']).groupBy(['churn_cancel', 'gender']).count().toPandas()\n",
    "gender_pd_cancel.head()"
   ]
  },
  {
   "cell_type": "code",
   "execution_count": 51,
   "metadata": {},
   "outputs": [
    {
     "data": {
      "image/png": "[encoded data removed]",
      "text/plain": [
       "<Figure size 432x288 with 1 Axes>"
      ]
     },
     "metadata": {
      "needs_background": "light"
     },
     "output_type": "display_data"
    }
   ],
   "source": [
    "sns.barplot(data=gender_pd_cancel,x='churn_cancel', y='count', hue='gender', palette='pastel')\n",
    "plt.xlabel('User Churning activity')\n",
    "plt.ylabel('Count')\n",
    "plt.legend(title='Gender', loc='best')\n",
    "plt.title('Any Impact of Gender on User Churning Sparkify');"
   ]
  },
  {
   "cell_type": "code",
   "execution_count": 52,
   "metadata": {},
   "outputs": [
    {
     "data": {
      "image/png": "[encoded data removed]",
      "text/plain": [
       "<Figure size 432x288 with 1 Axes>"
      ]
     },
     "metadata": {
      "needs_background": "light"
     },
     "output_type": "display_data"
    }
   ],
   "source": [
    "# gender impact on user downgrading\n",
    "gender_pd_downgrade = df_label.dropDuplicates(['userId']).groupBy(['churn_downgrade', 'gender']).count().toPandas()\n",
    "sns.barplot(data=gender_pd_downgrade,x='churn_downgrade', y='count', hue='gender', palette='pastel')\n",
    "plt.xlabel('User Downgrading activity')\n",
    "plt.ylabel('Count')\n",
    "plt.legend(title='Gender', loc='best')\n",
    "plt.title('Any Impact of Gender on User Downgrading Sparkify');"
   ]
  },
  {
   "cell_type": "markdown",
   "metadata": {},
   "source": [
    "**Impact of user level on churning activity**"
   ]
  },
  {
   "cell_type": "code",
   "execution_count": 53,
   "metadata": {},
   "outputs": [
    {
     "data": {
      "text/html": [
       "<div>\n",
       "<style scoped>\n",
       "    .dataframe tbody tr th:only-of-type {\n",
       "        vertical-align: middle;\n",
       "    }\n",
       "\n",
       "    .dataframe tbody tr th {\n",
       "        vertical-align: top;\n",
       "    }\n",
       "\n",
       "    .dataframe thead th {\n",
       "        text-align: right;\n",
       "    }\n",
       "</style>\n",
       "<table border=\"1\" class=\"dataframe\">\n",
       "  <thead>\n",
       "    <tr style=\"text-align: right;\">\n",
       "      <th></th>\n",
       "      <th>level</th>\n",
       "      <th>count</th>\n",
       "    </tr>\n",
       "  </thead>\n",
       "  <tbody>\n",
       "    <tr>\n",
       "      <th>0</th>\n",
       "      <td>free</td>\n",
       "      <td>32</td>\n",
       "    </tr>\n",
       "    <tr>\n",
       "      <th>1</th>\n",
       "      <td>paid</td>\n",
       "      <td>67</td>\n",
       "    </tr>\n",
       "  </tbody>\n",
       "</table>\n",
       "</div>"
      ],
      "text/plain": [
       "  level  count\n",
       "0  free     32\n",
       "1  paid     67"
      ]
     },
     "execution_count": 53,
     "metadata": {},
     "output_type": "execute_result"
    }
   ],
   "source": [
    "# when user confirmed the cancelling, the level of the user\n",
    "level_pd_cancel = df_label.where(df_label.page == 'Cancellation Confirmation').groupBy('level').count().toPandas()\n",
    "level_pd_cancel.head()"
   ]
  },
  {
   "cell_type": "code",
   "execution_count": 54,
   "metadata": {},
   "outputs": [
    {
     "data": {
      "image/png": "[encoded data removed]",
      "text/plain": [
       "<Figure size 432x288 with 1 Axes>"
      ]
     },
     "metadata": {
      "needs_background": "light"
     },
     "output_type": "display_data"
    }
   ],
   "source": [
    "# barplot based on user level when user cancelling\n",
    "sns.barplot(data=level_pd_cancel, x='level', y='count', palette='pastel')\n",
    "plt.xlabel('User level when cancels')\n",
    "plt.ylabel('Count')\n",
    "plt.title('User in which level more likely to churn Sparkify');"
   ]
  },
  {
   "cell_type": "markdown",
   "metadata": {},
   "source": [
    "**Impact of location of user on churning activity**"
   ]
  },
  {
   "cell_type": "code",
   "execution_count": 55,
   "metadata": {},
   "outputs": [
    {
     "data": {
      "text/html": [
       "<div>\n",
       "<style scoped>\n",
       "    .dataframe tbody tr th:only-of-type {\n",
       "        vertical-align: middle;\n",
       "    }\n",
       "\n",
       "    .dataframe tbody tr th {\n",
       "        vertical-align: top;\n",
       "    }\n",
       "\n",
       "    .dataframe thead th {\n",
       "        text-align: right;\n",
       "    }\n",
       "</style>\n",
       "<table border=\"1\" class=\"dataframe\">\n",
       "  <thead>\n",
       "    <tr style=\"text-align: right;\">\n",
       "      <th></th>\n",
       "      <th>state</th>\n",
       "      <th>count</th>\n",
       "    </tr>\n",
       "  </thead>\n",
       "  <tbody>\n",
       "    <tr>\n",
       "      <th>0</th>\n",
       "      <td>PA-NJ</td>\n",
       "      <td>2</td>\n",
       "    </tr>\n",
       "    <tr>\n",
       "      <th>1</th>\n",
       "      <td>WA</td>\n",
       "      <td>2</td>\n",
       "    </tr>\n",
       "    <tr>\n",
       "      <th>2</th>\n",
       "      <td>DC-VA-MD-WV</td>\n",
       "      <td>1</td>\n",
       "    </tr>\n",
       "    <tr>\n",
       "      <th>3</th>\n",
       "      <td>AL</td>\n",
       "      <td>2</td>\n",
       "    </tr>\n",
       "    <tr>\n",
       "      <th>4</th>\n",
       "      <td>NM</td>\n",
       "      <td>2</td>\n",
       "    </tr>\n",
       "  </tbody>\n",
       "</table>\n",
       "</div>"
      ],
      "text/plain": [
       "          state  count\n",
       "0         PA-NJ      2\n",
       "1            WA      2\n",
       "2   DC-VA-MD-WV      1\n",
       "3            AL      2\n",
       "4            NM      2"
      ]
     },
     "execution_count": 55,
     "metadata": {},
     "output_type": "execute_result"
    }
   ],
   "source": [
    "# location impact on user cancelling Sparkify\n",
    "state_pd_cancel = df_label.where(df_label.page == 'Cancellation Confirmation').groupBy('state').count().toPandas()\n",
    "state_pd_cancel.head()"
   ]
  },
  {
   "cell_type": "code",
   "execution_count": 56,
   "metadata": {},
   "outputs": [
    {
     "data": {
      "image/png": "[encoded data removed]",
      "text/plain": [
       "<Figure size 720x432 with 1 Axes>"
      ]
     },
     "metadata": {
      "needs_background": "light"
     },
     "output_type": "display_data"
    }
   ],
   "source": [
    "# barplot based on users' location \n",
    "plt.figure(figsize=(10, 6))\n",
    "sns.barplot(data=state_pd_cancel, x='state', y='count', palette='pastel')\n",
    "plt.xlabel('State')\n",
    "plt.ylabel('Count')\n",
    "plt.title('User in which state more likely to churn Sparkify')\n",
    "plt.xticks(rotation = 90);"
   ]
  },
  {
   "cell_type": "code",
   "execution_count": 57,
   "metadata": {},
   "outputs": [
    {
     "data": {
      "image/png": "[encoded data removed]",
      "text/plain": [
       "<Figure size 720x432 with 1 Axes>"
      ]
     },
     "metadata": {
      "needs_background": "light"
     },
     "output_type": "display_data"
    }
   ],
   "source": [
    "# location impact on user downgrading\n",
    "state_pd_downgrade = df_label.where(df_label.page == 'Submit Downgrade').groupBy('state').count().toPandas()\n",
    "plt.figure(figsize=(10, 6))\n",
    "sns.barplot(data=state_pd_downgrade, x='state', y='count', palette='pastel')\n",
    "plt.xlabel('State')\n",
    "plt.ylabel('Count')\n",
    "plt.title('User in which state more likely to downgrade')\n",
    "plt.xticks(rotation = 90);"
   ]
  },
  {
   "cell_type": "markdown",
   "metadata": {},
   "source": [
    "**User activity - How many song played per session?**"
   ]
  },
  {
   "cell_type": "code",
   "execution_count": 81,
   "metadata": {},
   "outputs": [
    {
     "data": {
      "text/html": [
       "<div>\n",
       "<style scoped>\n",
       "    .dataframe tbody tr th:only-of-type {\n",
       "        vertical-align: middle;\n",
       "    }\n",
       "\n",
       "    .dataframe tbody tr th {\n",
       "        vertical-align: top;\n",
       "    }\n",
       "\n",
       "    .dataframe thead th {\n",
       "        text-align: right;\n",
       "    }\n",
       "</style>\n",
       "<table border=\"1\" class=\"dataframe\">\n",
       "  <thead>\n",
       "    <tr style=\"text-align: right;\">\n",
       "      <th></th>\n",
       "      <th>userId</th>\n",
       "      <th>sessionId</th>\n",
       "      <th>churn_cancel</th>\n",
       "      <th>level</th>\n",
       "      <th>count</th>\n",
       "    </tr>\n",
       "  </thead>\n",
       "  <tbody>\n",
       "    <tr>\n",
       "      <th>0</th>\n",
       "      <td>100010</td>\n",
       "      <td>62</td>\n",
       "      <td>1</td>\n",
       "      <td>free</td>\n",
       "      <td>49</td>\n",
       "    </tr>\n",
       "    <tr>\n",
       "      <th>1</th>\n",
       "      <td>100010</td>\n",
       "      <td>166</td>\n",
       "      <td>1</td>\n",
       "      <td>free</td>\n",
       "      <td>47</td>\n",
       "    </tr>\n",
       "    <tr>\n",
       "      <th>2</th>\n",
       "      <td>200002</td>\n",
       "      <td>2</td>\n",
       "      <td>1</td>\n",
       "      <td>free</td>\n",
       "      <td>40</td>\n",
       "    </tr>\n",
       "    <tr>\n",
       "      <th>3</th>\n",
       "      <td>200002</td>\n",
       "      <td>91</td>\n",
       "      <td>1</td>\n",
       "      <td>free</td>\n",
       "      <td>42</td>\n",
       "    </tr>\n",
       "    <tr>\n",
       "      <th>4</th>\n",
       "      <td>200002</td>\n",
       "      <td>164</td>\n",
       "      <td>1</td>\n",
       "      <td>free</td>\n",
       "      <td>22</td>\n",
       "    </tr>\n",
       "  </tbody>\n",
       "</table>\n",
       "</div>"
      ],
      "text/plain": [
       "   userId  sessionId  churn_cancel level  count\n",
       "0  100010         62             1  free     49\n",
       "1  100010        166             1  free     47\n",
       "2  200002          2             1  free     40\n",
       "3  200002         91             1  free     42\n",
       "4  200002        164             1  free     22"
      ]
     },
     "execution_count": 81,
     "metadata": {},
     "output_type": "execute_result"
    }
   ],
   "source": [
    "# get the average number of songs played in each session for each user \n",
    "song_pd_cancel = df_label.where(df_label.page == 'NextSong').groupBy(['userId', 'sessionId', 'churn_cancel','level']).count().toPandas()\n",
    "song_pd_cancel.head()"
   ]
  },
  {
   "cell_type": "code",
   "execution_count": 87,
   "metadata": {},
   "outputs": [
    {
     "data": {
      "text/html": [
       "<div>\n",
       "<style scoped>\n",
       "    .dataframe tbody tr th:only-of-type {\n",
       "        vertical-align: middle;\n",
       "    }\n",
       "\n",
       "    .dataframe tbody tr th {\n",
       "        vertical-align: top;\n",
       "    }\n",
       "\n",
       "    .dataframe thead th {\n",
       "        text-align: right;\n",
       "    }\n",
       "</style>\n",
       "<table border=\"1\" class=\"dataframe\">\n",
       "  <thead>\n",
       "    <tr style=\"text-align: right;\">\n",
       "      <th></th>\n",
       "      <th>churn_cancel</th>\n",
       "      <th>level</th>\n",
       "      <th>userId</th>\n",
       "      <th>count</th>\n",
       "    </tr>\n",
       "  </thead>\n",
       "  <tbody>\n",
       "    <tr>\n",
       "      <th>0</th>\n",
       "      <td>0</td>\n",
       "      <td>free</td>\n",
       "      <td>100</td>\n",
       "      <td>23.0</td>\n",
       "    </tr>\n",
       "    <tr>\n",
       "      <th>1</th>\n",
       "      <td>0</td>\n",
       "      <td>free</td>\n",
       "      <td>100002</td>\n",
       "      <td>8.0</td>\n",
       "    </tr>\n",
       "    <tr>\n",
       "      <th>2</th>\n",
       "      <td>0</td>\n",
       "      <td>free</td>\n",
       "      <td>100006</td>\n",
       "      <td>65.0</td>\n",
       "    </tr>\n",
       "    <tr>\n",
       "      <th>3</th>\n",
       "      <td>0</td>\n",
       "      <td>free</td>\n",
       "      <td>100007</td>\n",
       "      <td>66.0</td>\n",
       "    </tr>\n",
       "    <tr>\n",
       "      <th>4</th>\n",
       "      <td>0</td>\n",
       "      <td>free</td>\n",
       "      <td>100009</td>\n",
       "      <td>106.6</td>\n",
       "    </tr>\n",
       "  </tbody>\n",
       "</table>\n",
       "</div>"
      ],
      "text/plain": [
       "   churn_cancel level  userId  count\n",
       "0             0  free     100   23.0\n",
       "1             0  free  100002    8.0\n",
       "2             0  free  100006   65.0\n",
       "3             0  free  100007   66.0\n",
       "4             0  free  100009  106.6"
      ]
     },
     "execution_count": 87,
     "metadata": {},
     "output_type": "execute_result"
    }
   ],
   "source": [
    "# https://stackoverflow.com/questions/10373660/converting-a-pandas-groupby-output-from-series-to-dataframe\n",
    "song_pd_cancel_plot = song_pd_cancel.groupby(['churn_cancel', 'level', 'userId']).agg({'count': 'mean'}).reset_index()\n",
    "song_pd_cancel_plot.head()"
   ]
  },
  {
   "cell_type": "code",
   "execution_count": 92,
   "metadata": {},
   "outputs": [
    {
     "data": {
      "image/png": "[encoded data removed]",
      "text/plain": [
       "<Figure size 432x288 with 1 Axes>"
      ]
     },
     "metadata": {
      "needs_background": "light"
     },
     "output_type": "display_data"
    }
   ],
   "source": [
    "# boxplot for the distribution of average number of songs for different user group\n",
    "sns.boxplot(data=song_pd_cancel_plot, x='churn_cancel', y='count', hue='level', palette='pastel')\n",
    "plt.xlabel('Customer Churning Status')\n",
    "plt.ylabel('Average Number of Song Played per user')\n",
    "plt.title('Customer Churning with Different Level and Number of Songs per Session');"
   ]
  },
  {
   "cell_type": "code",
   "execution_count": 93,
   "metadata": {},
   "outputs": [
    {
     "name": "stdout",
     "output_type": "stream",
     "text": [
      "Index(['churn_downgrade', 'level', 'userId', 'count'], dtype='object')\n"
     ]
    },
    {
     "data": {
      "image/png": "[encoded data removed]",
      "text/plain": [
       "<Figure size 432x288 with 1 Axes>"
      ]
     },
     "metadata": {
      "needs_background": "light"
     },
     "output_type": "display_data"
    }
   ],
   "source": [
    "# get the average number of songs played in each session for each user \n",
    "song_pd_downgrade = df_label.where(df_label.page == 'NextSong').groupBy(['userId', 'sessionId', 'churn_downgrade','level']).count().toPandas()\\\n",
    "                    .groupby(['churn_downgrade', 'level', 'userId']).agg({'count': 'mean'}).reset_index()\n",
    "\n",
    "# boxplot for the distribution of average number of songs for different user group\n",
    "print(song_pd_downgrade.columns)\n",
    "sns.boxplot(data=song_pd_downgrade, x='churn_downgrade', y='count', hue='level', palette='pastel')\n",
    "plt.xlabel('Customer Downgrading Status')\n",
    "plt.ylabel('Average Number of Song Played per user')\n",
    "plt.title('Customer Downgrading with Different Level and Number of Songs per Session');"
   ]
  },
  {
   "cell_type": "markdown",
   "metadata": {},
   "source": [
    "**User Activity: The number of Thumbs Up per session**  \n",
    "\n",
    "Since thumbs up lies in the third place in the page values, we would like to see its impact on customer churn. Whether active user(more thumbs up per session) are likely to churn(or downgrade) or not?"
   ]
  },
  {
   "cell_type": "code",
   "execution_count": 95,
   "metadata": {},
   "outputs": [
    {
     "data": {
      "image/png": "[encoded data removed]",
      "text/plain": [
       "<Figure size 432x288 with 1 Axes>"
      ]
     },
     "metadata": {
      "needs_background": "light"
     },
     "output_type": "display_data"
    }
   ],
   "source": [
    "# get the average number of thumbs up in each session for each user \n",
    "thumbup_pd_cancel = df_label.where(df_label.page == 'Thumbs Up').groupBy(['userId', 'sessionId', 'churn_cancel','level']).count().toPandas()\\\n",
    "                    .groupby(['churn_cancel', 'level', 'userId']).agg({'count': 'sum'}).reset_index()\n",
    "\n",
    "# boxplot for the distribution of average number of songs for different user group\n",
    "sns.boxplot(data=thumbup_pd_cancel, x='churn_cancel', y='count', hue='level', palette='pastel')\n",
    "plt.xlabel('Customer Churning Status')\n",
    "plt.ylabel('Average Number of Thumbs Up per user')\n",
    "plt.title('Customer Churning with Different Level and Number of Songs per Session');"
   ]
  },
  {
   "cell_type": "code",
   "execution_count": 96,
   "metadata": {},
   "outputs": [
    {
     "data": {
      "image/png": "[encoded data removed]",
      "text/plain": [
       "<Figure size 432x288 with 1 Axes>"
      ]
     },
     "metadata": {
      "needs_background": "light"
     },
     "output_type": "display_data"
    }
   ],
   "source": [
    "# get the average number of thumbs up in each session for each user \n",
    "thumbup_pd_dg = df_label.where(df_label.page == 'Thumbs Up').groupBy(['userId', 'sessionId', 'churn_downgrade','level']).count().toPandas()\\\n",
    "                    .groupby(['churn_downgrade', 'level', 'userId']).agg({'count': 'sum'}).reset_index()\n",
    "\n",
    "# boxplot for the distribution of average number of songs for different user group\n",
    "sns.boxplot(data=thumbup_pd_dg, x='churn_downgrade', y='count', hue='level', palette='pastel')\n",
    "plt.xlabel('Customer Downgrading Status')\n",
    "plt.ylabel('Average Number of Thumbs Up per user')\n",
    "plt.title('Customer Downgrading with Different Level and Number of Songs per Session');"
   ]
  },
  {
   "cell_type": "markdown",
   "metadata": {},
   "source": [
    "**Loyal customers or new customers?**\n",
    "\n",
    "Wheather the loyal customers more likely to churn(or downgrade) or not?"
   ]
  },
  {
   "cell_type": "code",
   "execution_count": 111,
   "metadata": {},
   "outputs": [
    {
     "data": {
      "text/html": [
       "<div>\n",
       "<style scoped>\n",
       "    .dataframe tbody tr th:only-of-type {\n",
       "        vertical-align: middle;\n",
       "    }\n",
       "\n",
       "    .dataframe tbody tr th {\n",
       "        vertical-align: top;\n",
       "    }\n",
       "\n",
       "    .dataframe thead th {\n",
       "        text-align: right;\n",
       "    }\n",
       "</style>\n",
       "<table border=\"1\" class=\"dataframe\">\n",
       "  <thead>\n",
       "    <tr style=\"text-align: right;\">\n",
       "      <th></th>\n",
       "      <th>userId</th>\n",
       "      <th>registration_date</th>\n",
       "      <th>churn_cancel</th>\n",
       "      <th>current_date</th>\n",
       "      <th>lifetime_days</th>\n",
       "    </tr>\n",
       "  </thead>\n",
       "  <tbody>\n",
       "    <tr>\n",
       "      <th>0</th>\n",
       "      <td>100010</td>\n",
       "      <td>2018-09-27</td>\n",
       "      <td>1</td>\n",
       "      <td>2020-12-01</td>\n",
       "      <td>796</td>\n",
       "    </tr>\n",
       "    <tr>\n",
       "      <th>1</th>\n",
       "      <td>200002</td>\n",
       "      <td>2018-09-06</td>\n",
       "      <td>1</td>\n",
       "      <td>2020-12-01</td>\n",
       "      <td>817</td>\n",
       "    </tr>\n",
       "    <tr>\n",
       "      <th>2</th>\n",
       "      <td>296</td>\n",
       "      <td>2018-09-14</td>\n",
       "      <td>1</td>\n",
       "      <td>2020-12-01</td>\n",
       "      <td>809</td>\n",
       "    </tr>\n",
       "    <tr>\n",
       "      <th>3</th>\n",
       "      <td>125</td>\n",
       "      <td>2018-08-01</td>\n",
       "      <td>0</td>\n",
       "      <td>2020-12-01</td>\n",
       "      <td>853</td>\n",
       "    </tr>\n",
       "    <tr>\n",
       "      <th>4</th>\n",
       "      <td>124</td>\n",
       "      <td>2018-07-22</td>\n",
       "      <td>1</td>\n",
       "      <td>2020-12-01</td>\n",
       "      <td>863</td>\n",
       "    </tr>\n",
       "  </tbody>\n",
       "</table>\n",
       "</div>"
      ],
      "text/plain": [
       "   userId registration_date  churn_cancel current_date  lifetime_days\n",
       "0  100010        2018-09-27             1   2020-12-01            796\n",
       "1  200002        2018-09-06             1   2020-12-01            817\n",
       "2     296        2018-09-14             1   2020-12-01            809\n",
       "3     125        2018-08-01             0   2020-12-01            853\n",
       "4     124        2018-07-22             1   2020-12-01            863"
      ]
     },
     "execution_count": 111,
     "metadata": {},
     "output_type": "execute_result"
    }
   ],
   "source": [
    "# get the lifetime(time since registration) of each user \n",
    "# https://www.datasciencemadesimple.com/get-difference-between-two-dates-in-days-years-months-and-quarters-in-pyspark/\n",
    "# https://sparkbyexamples.com/spark/spark-current-date-and-timestamp/\n",
    "regis_pd_cancel = df_label.dropDuplicates(['userId', 'registration_date']).select(['userId', 'registration_date', 'churn_cancel'])\\\n",
    "                  .withColumn('current_date', current_date())\\\n",
    "                  .withColumn('lifetime_days', datediff(col('current_date'),col('registration_date'))).toPandas() \n",
    "\n",
    "regis_pd_cancel.head()"
   ]
  },
  {
   "cell_type": "code",
   "execution_count": 113,
   "metadata": {},
   "outputs": [
    {
     "data": {
      "image/png": "[encoded data removed]",
      "text/plain": [
       "<Figure size 432x288 with 1 Axes>"
      ]
     },
     "metadata": {
      "needs_background": "light"
     },
     "output_type": "display_data"
    }
   ],
   "source": [
    "# boxplot for the distribution of lifetime for different user group\n",
    "sns.boxplot(data=regis_pd_cancel, x='churn_cancel', y='lifetime_days', palette='pastel')\n",
    "plt.xlabel('Customer Churning Status')\n",
    "plt.ylabel('User Lifetime Since the Registration(days)')\n",
    "plt.title('The Impact of Customer Lifetime on Customer Churning');"
   ]
  },
  {
   "cell_type": "code",
   "execution_count": 114,
   "metadata": {},
   "outputs": [
    {
     "data": {
      "image/png": "[encoded data removed]",
      "text/plain": [
       "<Figure size 432x288 with 1 Axes>"
      ]
     },
     "metadata": {
      "needs_background": "light"
     },
     "output_type": "display_data"
    }
   ],
   "source": [
    "# get the lifetime(time since registration) of each user \n",
    "regis_pd_dg = df_label.dropDuplicates(['userId', 'registration_date']).select(['userId', 'registration_date', 'churn_downgrade'])\\\n",
    "                  .withColumn('current_date', current_date())\\\n",
    "                  .withColumn('lifetime_days', datediff(col('current_date'),col('registration_date'))).toPandas() \n",
    "\n",
    "# boxplot for the distribution of lifetime for different user group\n",
    "sns.boxplot(data=regis_pd_dg, x='churn_downgrade', y='lifetime_days', palette='pastel')\n",
    "plt.xlabel('Customer Downgrading Status')\n",
    "plt.ylabel('User Lifetime Since the Registration(days)')\n",
    "plt.title('The Impact of Customer Lifetime on Customer Downgrading');"
   ]
  },
  {
   "cell_type": "markdown",
   "metadata": {},
   "source": [
    "In a summary：  \n",
    "1. Active customers(more songs listed, thrumbs up...) tend to be more present on the Sparkify than churned customers;   \n",
    "2. Churned customers have some different customer behavior when compared with downgraded customers;   \n",
    "3. The lifetime and location of the customer could be indicators of customer churn."
   ]
  },
  {
   "cell_type": "markdown",
   "metadata": {},
   "source": [
    "# Feature Engineering \n",
    "\n",
    "After data analysis, we become more familiarized with data and figure out the interesting features to train our prediction model later. It's time to extract those features from the dataset and get ready for build out the model. "
   ]
  },
  {
   "cell_type": "code",
   "execution_count": 117,
   "metadata": {},
   "outputs": [
    {
     "name": "stdout",
     "output_type": "stream",
     "text": [
      "+------+------+\n",
      "|userId|gender|\n",
      "+------+------+\n",
      "|100010|     0|\n",
      "|200002|     1|\n",
      "|   296|     0|\n",
      "|   125|     1|\n",
      "|   124|     0|\n",
      "|    51|     1|\n",
      "|     7|     1|\n",
      "|200037|     1|\n",
      "|   169|     1|\n",
      "|   205|     0|\n",
      "|   272|     0|\n",
      "|    15|     1|\n",
      "|   232|     0|\n",
      "|   234|     1|\n",
      "|   282|     1|\n",
      "|    54|     0|\n",
      "|   155|     0|\n",
      "|200043|     0|\n",
      "|100014|     1|\n",
      "|   132|     0|\n",
      "+------+------+\n",
      "only showing top 20 rows\n",
      "\n"
     ]
    }
   ],
   "source": [
    "# convert gender into numerical feature\n",
    "f1 = df_label.dropDuplicates(['userId']).select(['userId','gender']).replace(['M','F'], ['1', '0'])\n",
    "f1 = f1.withColumn('gender', f1.gender.cast('int'))\n",
    "f1.show()"
   ]
  },
  {
   "cell_type": "code",
   "execution_count": 118,
   "metadata": {},
   "outputs": [
    {
     "name": "stdout",
     "output_type": "stream",
     "text": [
      "+------+-----+\n",
      "|userId|level|\n",
      "+------+-----+\n",
      "|100010|    0|\n",
      "|200002|    0|\n",
      "|   296|    0|\n",
      "|   125|    0|\n",
      "|   124|    1|\n",
      "|    51|    1|\n",
      "|     7|    0|\n",
      "|200037|    0|\n",
      "|   169|    0|\n",
      "|   205|    1|\n",
      "|   272|    0|\n",
      "|    15|    1|\n",
      "|   232|    0|\n",
      "|   234|    0|\n",
      "|   282|    0|\n",
      "|    54|    1|\n",
      "|   155|    1|\n",
      "|200043|    0|\n",
      "|100014|    1|\n",
      "|   132|    0|\n",
      "+------+-----+\n",
      "only showing top 20 rows\n",
      "\n"
     ]
    }
   ],
   "source": [
    "# convert level into numerical feature\n",
    "f2 = df_label.dropDuplicates(['userId']).select(['userId','level']).replace(['paid','free'], ['1', '0'])\n",
    "f2 = f2.withColumn('level', f2.level.cast('int'))\n",
    "f2.show()"
   ]
  },
  {
   "cell_type": "code",
   "execution_count": 122,
   "metadata": {},
   "outputs": [
    {
     "name": "stdout",
     "output_type": "stream",
     "text": [
      "+-------+------------------+-----------------+\n",
      "|summary|            userId| avg_songs_played|\n",
      "+-------+------------------+-----------------+\n",
      "|  count|               448|              448|\n",
      "|   mean| 67520.34821428571| 65.6116840997681|\n",
      "| stddev|105964.58428485192|39.49496566617267|\n",
      "|    min|                10|              1.0|\n",
      "|    max|                99|            360.0|\n",
      "+-------+------------------+-----------------+\n",
      "\n"
     ]
    }
   ],
   "source": [
    "# extract the number of song played per session feature\n",
    "f3 = df_label.where(df_label.page == 'NextSong').groupBy(['userId', 'sessionId']).count() \\\n",
    "     .groupby(['userId']).agg({'count': 'avg'}).withColumnRenamed('avg(count)', 'avg_songs_played')\n",
    "f3.describe().show()"
   ]
  },
  {
   "cell_type": "code",
   "execution_count": 121,
   "metadata": {},
   "outputs": [
    {
     "name": "stdout",
     "output_type": "stream",
     "text": [
      "+-------+------------------+------------------+\n",
      "|summary|            userId|       total_songs|\n",
      "+-------+------------------+------------------+\n",
      "|  count|               448|               448|\n",
      "|   mean| 67520.34821428571|1178.5825892857142|\n",
      "| stddev|105964.58428485192|1380.6279647524045|\n",
      "|    min|                10|                 3|\n",
      "|    max|                99|              9767|\n",
      "+-------+------------------+------------------+\n",
      "\n"
     ]
    }
   ],
   "source": [
    "# extract the number of total song listened\n",
    "f4 = df_label.select('userId', 'song').groupBy('userId').count().withColumnRenamed('count', 'total_songs')\n",
    "f4.describe().show()"
   ]
  },
  {
   "cell_type": "code",
   "execution_count": 123,
   "metadata": {},
   "outputs": [
    {
     "name": "stdout",
     "output_type": "stream",
     "text": [
      "+-------+-----------------+-----------------+\n",
      "|summary|           userId|    num_thumbs_up|\n",
      "+-------+-----------------+-----------------+\n",
      "|  count|              439|              439|\n",
      "|   mean|67308.81548974942|54.27334851936219|\n",
      "| stddev|106228.8040825479| 69.9413517877898|\n",
      "|    min|               10|                1|\n",
      "|    max|               99|              506|\n",
      "+-------+-----------------+-----------------+\n",
      "\n"
     ]
    }
   ],
   "source": [
    "# extract the number of Thumbs Up feature \n",
    "f5 = df_label.select('userId', 'page').where(df_label.page == 'Thumbs Up').groupBy('userId').count().withColumnRenamed('count', 'num_thumbs_up')\n",
    "f5.describe().show()"
   ]
  },
  {
   "cell_type": "code",
   "execution_count": 124,
   "metadata": {},
   "outputs": [
    {
     "name": "stdout",
     "output_type": "stream",
     "text": [
      "+-------+------------------+------------------+\n",
      "|summary|            userId|  num_add_playlist|\n",
      "+-------+------------------+------------------+\n",
      "|  count|               428|               428|\n",
      "|   mean| 65764.93457943926|28.852803738317757|\n",
      "| stddev|105363.38578382804| 33.91309069456629|\n",
      "|    min|                10|                 1|\n",
      "|    max|                99|               248|\n",
      "+-------+------------------+------------------+\n",
      "\n"
     ]
    }
   ],
   "source": [
    "# extract the number of add to playlist feature\n",
    "f6 = df_label.select('userId','page').where(df_label.page == 'Add to Playlist').groupBy('userId').count().withColumnRenamed('count', 'num_add_playlist')\n",
    "f6.describe().show()"
   ]
  },
  {
   "cell_type": "code",
   "execution_count": 125,
   "metadata": {},
   "outputs": [
    {
     "name": "stdout",
     "output_type": "stream",
     "text": [
      "+-------+------------------+------------------+\n",
      "|summary|            userId|    num_add_friend|\n",
      "+-------+------------------+------------------+\n",
      "|  count|               409|               409|\n",
      "|   mean|  66368.3716381418|19.772616136919314|\n",
      "| stddev|106064.01609030597|22.494435766272833|\n",
      "|    min|                10|                 1|\n",
      "|    max|                99|               158|\n",
      "+-------+------------------+------------------+\n",
      "\n"
     ]
    }
   ],
   "source": [
    "# extract the number of add to playlist feature\n",
    "f7 = df_label.select('userId','page').where(df_label.page == 'Add Friend').groupBy('userId').count().withColumnRenamed('count', 'num_add_friend')\n",
    "f7.describe().show()"
   ]
  },
  {
   "cell_type": "code",
   "execution_count": 126,
   "metadata": {},
   "outputs": [
    {
     "name": "stdout",
     "output_type": "stream",
     "text": [
      "+-------+------------------+-----------------+\n",
      "|summary|            userId|      num_artists|\n",
      "+-------+------------------+-----------------+\n",
      "|  count|               448|              448|\n",
      "|   mean| 67520.34821428571|658.9799107142857|\n",
      "| stddev|105964.58428485192| 625.882698051957|\n",
      "|    min|                10|                1|\n",
      "|    max|                99|             3507|\n",
      "+-------+------------------+-----------------+\n",
      "\n"
     ]
    }
   ],
   "source": [
    "# extract the number of artists listened feature\n",
    "f8 = df_label.where(df_label.page == 'NextSong').select('userId','artist').dropDuplicates() \\\n",
    "     .groupBy('userId').count().withColumnRenamed('count', 'num_artists')\n",
    "f8.describe().show()"
   ]
  },
  {
   "cell_type": "code",
   "execution_count": 136,
   "metadata": {},
   "outputs": [
    {
     "name": "stdout",
     "output_type": "stream",
     "text": [
      "+-------+------------------+-----------------+\n",
      "|summary|            userId|    lifetime_days|\n",
      "+-------+------------------+-----------------+\n",
      "|  count|               448|              448|\n",
      "|   mean| 67520.34821428571|830.3705357142857|\n",
      "| stddev|105964.58428485192|37.60177809683291|\n",
      "|    min|                10|              741|\n",
      "|    max|                99|             1125|\n",
      "+-------+------------------+-----------------+\n",
      "\n"
     ]
    }
   ],
   "source": [
    "# extract the lifetime of customers since they join the Sparkify\n",
    "f9 = df_label.select(['userId', 'registration_date'])\\\n",
    "      .withColumn('current_date', current_date())\\\n",
    "      .withColumn('lifetime_days', datediff(col('current_date'),col('registration_date')))\\\n",
    "      .groupBy('userId').agg({'lifetime_days':'max'})\\\n",
    "      .withColumnRenamed('max(lifetime_days)','lifetime_days')\n",
    "f9.describe().show()"
   ]
  },
  {
   "cell_type": "code",
   "execution_count": 137,
   "metadata": {},
   "outputs": [
    {
     "name": "stdout",
     "output_type": "stream",
     "text": [
      "+-------+------------------+-------------------+\n",
      "|summary|            userId|              label|\n",
      "+-------+------------------+-------------------+\n",
      "|  count|               448|                448|\n",
      "|   mean| 67520.34821428571|0.22098214285714285|\n",
      "| stddev|105964.58428485192|0.41537231043963646|\n",
      "|    min|                10|                  0|\n",
      "|    max|                99|                  1|\n",
      "+-------+------------------+-------------------+\n",
      "\n"
     ]
    }
   ],
   "source": [
    "# add the churn label\n",
    "label = df_label.select(['userId', 'churn_cancel']).distinct().withColumnRenamed('churn_cancel', 'label')\n",
    "label.describe().show()"
   ]
  },
  {
   "cell_type": "code",
   "execution_count": 138,
   "metadata": {},
   "outputs": [
    {
     "name": "stdout",
     "output_type": "stream",
     "text": [
      "+------+-----+----------------+-----------+-------------+----------------+--------------+-----------+-------------+-----+\n",
      "|gender|level|avg_songs_played|total_songs|num_thumbs_up|num_add_playlist|num_add_friend|num_artists|lifetime_days|label|\n",
      "+------+-----+----------------+-----------+-------------+----------------+--------------+-----------+-------------+-----+\n",
      "|     0|    0|            48.0|        137|            4|               1|             3|         94|          799|    1|\n",
      "|     1|    0|            62.0|        395|           15|               6|             2|        287|          820|    1|\n",
      "+------+-----+----------------+-----------+-------------+----------------+--------------+-----------+-------------+-----+\n",
      "only showing top 2 rows\n",
      "\n"
     ]
    }
   ],
   "source": [
    "#combine all features into final dataframe to be used for model\n",
    "df_final = f1.join(f2,'userId','outer') \\\n",
    "            .join(f3,'userId','outer') \\\n",
    "            .join(f4,'userId','outer') \\\n",
    "            .join(f5,'userId','outer') \\\n",
    "            .join(f6,'userId','outer') \\\n",
    "            .join(f7,'userId','outer') \\\n",
    "            .join(f8,'userId','outer') \\\n",
    "            .join(f9,'userId','outer') \\\n",
    "            .join(label,'userId','outer') \\\n",
    "            .drop('userId') \\\n",
    "            .fillna(0)\n",
    "df_final.show(2)"
   ]
  },
  {
   "cell_type": "markdown",
   "metadata": {},
   "source": [
    "# Modeling   \n",
    "\n",
    "Split the full dataset into train, test, and validation sets. Test out several of the machine learning methods. Evaluate the accuracy of the those models, tuning parameters as necessary.\n",
    "\n",
    "Since the churned users are a fairly small subset, we use F1 score as the metric to optimize The reason we use F-1 score here is because it gives us a simple measure of the precision (whether we send offer to the right person) and recall (whether we miss one that we should’ve sent the offer) of the model. We want to identify those who are likely to churn and give them some special offers in trying to keep the customer, but at the same time, we do not want to send too many offers (most likely a monetary incentive) to those who are not as likely to churn and therefore wasting money and resources."
   ]
  },
  {
   "cell_type": "code",
   "execution_count": 140,
   "metadata": {},
   "outputs": [],
   "source": [
    "# create the vector assembler\n",
    "inputcols = ['gender', 'level', 'avg_songs_played', 'total_songs', 'num_thumbs_up', 'num_add_playlist', \n",
    "             'num_add_friend', 'num_artists', 'lifetime_days']\n",
    "assembler = VectorAssembler(inputCols=inputcols, outputCol='featurevectors')\n",
    "data = assembler.transform(df_final)"
   ]
  },
  {
   "cell_type": "code",
   "execution_count": 141,
   "metadata": {},
   "outputs": [],
   "source": [
    "# standardize the features by standard scaler\n",
    "scaler = StandardScaler(inputCol='featurevectors', outputCol='features', withStd=True)\n",
    "scalerModel = scaler.fit(data)\n",
    "data = scalerModel.transform(data)"
   ]
  },
  {
   "cell_type": "code",
   "execution_count": 142,
   "metadata": {},
   "outputs": [],
   "source": [
    "# split the data into train, validation and test data\n",
    "train, rest = data.randomSplit([0.6, 0.4], seed=42)\n",
    "validation, test = rest.randomSplit([0.5, 0.5], seed=42)"
   ]
  },
  {
   "cell_type": "code",
   "execution_count": 143,
   "metadata": {},
   "outputs": [
    {
     "name": "stdout",
     "output_type": "stream",
     "text": [
      "Accuracy: 0.752\n",
      "F-1 Score:0.645552511415525\n"
     ]
    }
   ],
   "source": [
    "# the churned users are a fairly small subset,even if the model predict all user as no churning user, the accuracy and f1 score will not lower\n",
    "# calculate the accuracy and f1 score\n",
    "result_all_0 = test.withColumn('prediction', lit(0.0))\n",
    "evaluator = MulticlassClassificationEvaluator(predictionCol='prediction')\n",
    "print(f'Accuracy: {(evaluator.evaluate(result_all_0, {evaluator.metricName: \"accuracy\"}))}')\n",
    "print(f'F-1 Score:{(evaluator.evaluate(result_all_0, {evaluator.metricName: \"f1\"}))}')"
   ]
  },
  {
   "cell_type": "markdown",
   "metadata": {},
   "source": [
    "**Logistic Regression**"
   ]
  },
  {
   "cell_type": "code",
   "execution_count": 146,
   "metadata": {},
   "outputs": [
    {
     "name": "stdout",
     "output_type": "stream",
     "text": [
      "Accuracy: 0.7636363636363637\n",
      "F-1 Score:0.6770384254920337\n"
     ]
    }
   ],
   "source": [
    "# initialize classifier\n",
    "lr = LogisticRegression(maxIter=10)\n",
    "\n",
    "# set evaluator\n",
    "f1_evaluator = MulticlassClassificationEvaluator(metricName='f1')\n",
    "\n",
    "# build paramGrid\n",
    "paramGrid = ParamGridBuilder().build()\n",
    "\n",
    "crossval_lr = CrossValidator(estimator=lr,\n",
    "                             evaluator=f1_evaluator, \n",
    "                             estimatorParamMaps=paramGrid,\n",
    "                             numFolds=3)\n",
    "# fit model with train data\n",
    "cvModel_lr = crossval_lr.fit(train)\n",
    "cvModel_lr.avgMetrics\n",
    "# predict on test data\n",
    "predict_lr = cvModel_lr.transform(validation)\n",
    "# evaluate the model performance\n",
    "evaluator = MulticlassClassificationEvaluator(predictionCol='prediction')\n",
    "print(f'Accuracy: {(evaluator.evaluate(predict_lr, {evaluator.metricName: \"accuracy\"}))}')\n",
    "print(f'F-1 Score:{(evaluator.evaluate(predict_lr, {evaluator.metricName: \"f1\"}))}')"
   ]
  },
  {
   "cell_type": "markdown",
   "metadata": {},
   "source": [
    "**Random Forest**"
   ]
  },
  {
   "cell_type": "code",
   "execution_count": 147,
   "metadata": {},
   "outputs": [
    {
     "name": "stdout",
     "output_type": "stream",
     "text": [
      "Accuracy: 0.7818181818181819\n",
      "F-1 Score:0.6860853432282005\n"
     ]
    }
   ],
   "source": [
    "# initialize classifier\n",
    "rf = RandomForestClassifier()\n",
    "\n",
    "# set evaluator\n",
    "f1_evaluator = MulticlassClassificationEvaluator(metricName='f1')\n",
    "\n",
    "# build paramGrid\n",
    "paramGrid = ParamGridBuilder().build()\n",
    "\n",
    "crossval_rf = CrossValidator(estimator=rf,\n",
    "                             estimatorParamMaps=paramGrid,\n",
    "                             evaluator=f1_evaluator,\n",
    "                             numFolds=3)\n",
    "# fit model\n",
    "cvModel_rf = crossval_rf.fit(train)\n",
    "cvModel_rf.avgMetrics\n",
    "# predict on test data\n",
    "predict_rf = cvModel_rf.transform(validation)\n",
    "\n",
    "# evaluate the model performance\n",
    "evaluator = MulticlassClassificationEvaluator(predictionCol=\"prediction\")\n",
    "print(f'Accuracy: {(evaluator.evaluate(predict_rf, {evaluator.metricName: \"accuracy\"}))}')\n",
    "print(f'F-1 Score:{(evaluator.evaluate(predict_rf, {evaluator.metricName: \"f1\"}))}')"
   ]
  },
  {
   "cell_type": "markdown",
   "metadata": {},
   "source": [
    "**[Gradient Boosted Trees](https://spark.apache.org/docs/latest/api/python/pyspark.ml.html#pyspark.ml.classification.GBTClassifier)**"
   ]
  },
  {
   "cell_type": "code",
   "execution_count": 148,
   "metadata": {},
   "outputs": [
    {
     "name": "stdout",
     "output_type": "stream",
     "text": [
      "Accuracy: 0.8181818181818182\n",
      "F-1 Score:0.7627164502164503\n"
     ]
    }
   ],
   "source": [
    "# initialize classifier\n",
    "gbt = GBTClassifier(maxIter=10,seed=42)\n",
    "\n",
    "# set evaluator\n",
    "f1_evaluator = MulticlassClassificationEvaluator(metricName='f1')\n",
    "\n",
    "# build paramGrid\n",
    "paramGrid = ParamGridBuilder().build()\n",
    "\n",
    "crossval_gbt = CrossValidator(estimator=gbt,\n",
    "                              estimatorParamMaps=paramGrid,\n",
    "                              evaluator=f1_evaluator,\n",
    "                              numFolds=3)\n",
    "# fit model\n",
    "cvModel_gbt = crossval_gbt.fit(train)\n",
    "cvModel_gbt.avgMetrics\n",
    "# predict on test data\n",
    "predict_gbt = cvModel_gbt.transform(validation)\n",
    "\n",
    "# evaluate the model performance\n",
    "evaluator = MulticlassClassificationEvaluator(predictionCol=\"prediction\")\n",
    "\n",
    "print(f'Accuracy: {(evaluator.evaluate(predict_gbt, {evaluator.metricName: \"accuracy\"}))}')\n",
    "print(f'F-1 Score:{(evaluator.evaluate(predict_gbt, {evaluator.metricName: \"f1\"}))}')"
   ]
  },
  {
   "cell_type": "markdown",
   "metadata": {},
   "source": [
    "**Summary:**      \n",
    "\n",
    "- Since the churned customers are in a small amount of the data, even if we predicted all the customer as loyal customers(no churning), the accuracy is 0.752 and the F1 score is 0.646;   \n",
    "- The highest accuracy among three models is 0.818, and the highest F1 score among three models is 0.763. They are both from the gradient boosted trees model;   \n",
    "- Compared to the baseline prediction, the accuracy of the gradient boosted trees model increased 9% and the F1 score of the it increased 18%.   \n",
    "\n",
    "Based on the final prediction results, we choose gradient boosted trees as our final model for further tuning and prediction."
   ]
  },
  {
   "cell_type": "markdown",
   "metadata": {},
   "source": [
    "**Hyperparameters Tuning**   \n",
    "\n",
    "We will use the grid search to tune the gradient boosted trees model.We mainly focus on two parameters this time, maxIter and maxDepth."
   ]
  },
  {
   "cell_type": "code",
   "execution_count": 163,
   "metadata": {},
   "outputs": [],
   "source": [
    "# initialize classifier\n",
    "gbt_tune = GBTClassifier(seed=42)\n",
    "# create paramGrid\n",
    "gbt_paramGrid = ParamGridBuilder().addGrid(gbt_tune.maxDepth,[3, 5, 10]).addGrid(gbt_tune.maxIter, [5, 10, 20]).build()\n",
    "\n",
    "# set evaluator\n",
    "f1_evaluator = MulticlassClassificationEvaluator(metricName='f1')\n",
    "\n",
    "crossval_gbt_tune = CrossValidator(estimator=gbt_tune,\n",
    "                                   estimatorParamMaps=gbt_paramGrid,\n",
    "                                   evaluator=f1_evaluator,\n",
    "                                   numFolds=3)"
   ]
  },
  {
   "cell_type": "code",
   "execution_count": 164,
   "metadata": {},
   "outputs": [
    {
     "data": {
      "text/plain": [
       "[0.7209955061442092,\n",
       " 0.7286822180911616,\n",
       " 0.7102604501690608,\n",
       " 0.7216477426919934,\n",
       " 0.7166597773847029,\n",
       " 0.7105132547640091,\n",
       " 0.663602771814154,\n",
       " 0.6669540246522365,\n",
       " 0.6601819177552662]"
      ]
     },
     "execution_count": 164,
     "metadata": {},
     "output_type": "execute_result"
    }
   ],
   "source": [
    "cvModel_gbt_tune = crossval_gbt_tune.fit(train)\n",
    "cvModel_gbt_tune.avgMetrics"
   ]
  },
  {
   "cell_type": "code",
   "execution_count": 165,
   "metadata": {},
   "outputs": [
    {
     "name": "stdout",
     "output_type": "stream",
     "text": [
      "Metrics of Tuned GBT Model:\n",
      "Accuracy: 0.728\n",
      "F-1 Score:0.6463011422637591\n"
     ]
    }
   ],
   "source": [
    "predict_gbt_tune = cvModel_gbt_tune.bestModel.transform(test)\n",
    "# evaluate the model performance\n",
    "gbt_tuned_evaluator = MulticlassClassificationEvaluator(predictionCol=\"prediction\")\n",
    "print('Metrics of Tuned GBT Model:')\n",
    "print(f'Accuracy: {(gbt_tuned_evaluator.evaluate(predict_gbt_tune, {gbt_tuned_evaluator.metricName: \"accuracy\"}))}')\n",
    "print(f'F-1 Score:{(gbt_tuned_evaluator.evaluate(predict_gbt_tune, {gbt_tuned_evaluator.metricName: \"f1\"}))}')"
   ]
  },
  {
   "cell_type": "code",
   "execution_count": 166,
   "metadata": {},
   "outputs": [
    {
     "data": {
      "text/plain": [
       "{Param(parent='GBTClassifier_f51911c0967e', name='cacheNodeIds', doc='If false, the algorithm will pass trees to executors to match instances with nodes. If true, the algorithm will cache node IDs for each instance. Caching can speed up training of deeper trees. Users can set how often should the cache be checkpointed or disable it by setting checkpointInterval.'): False,\n",
       " Param(parent='GBTClassifier_f51911c0967e', name='checkpointInterval', doc='set checkpoint interval (>= 1) or disable checkpoint (-1). E.g. 10 means that the cache will get checkpointed every 10 iterations. Note: this setting will be ignored if the checkpoint directory is not set in the SparkContext.'): 10,\n",
       " Param(parent='GBTClassifier_f51911c0967e', name='featureSubsetStrategy', doc=\"The number of features to consider for splits at each tree node. Supported options: 'auto' (choose automatically for task: If numTrees == 1, set to 'all'. If numTrees > 1 (forest), set to 'sqrt' for classification and to 'onethird' for regression), 'all' (use all features), 'onethird' (use 1/3 of the features), 'sqrt' (use sqrt(number of features)), 'log2' (use log2(number of features)), 'n' (when n is in the range (0, 1.0], use n * number of features. When n is in the range (1, number of features), use n features). default = 'auto'\"): 'all',\n",
       " Param(parent='GBTClassifier_f51911c0967e', name='featuresCol', doc='features column name.'): 'features',\n",
       " Param(parent='GBTClassifier_f51911c0967e', name='impurity', doc='Criterion used for information gain calculation (case-insensitive). Supported options: variance'): 'variance',\n",
       " Param(parent='GBTClassifier_f51911c0967e', name='labelCol', doc='label column name.'): 'label',\n",
       " Param(parent='GBTClassifier_f51911c0967e', name='leafCol', doc='Leaf indices column name. Predicted leaf index of each instance in each tree by preorder.'): '',\n",
       " Param(parent='GBTClassifier_f51911c0967e', name='lossType', doc='Loss function which GBT tries to minimize (case-insensitive). Supported options: logistic'): 'logistic',\n",
       " Param(parent='GBTClassifier_f51911c0967e', name='maxBins', doc='Max number of bins for discretizing continuous features.  Must be >=2 and >= number of categories for any categorical feature.'): 32,\n",
       " Param(parent='GBTClassifier_f51911c0967e', name='maxDepth', doc='Maximum depth of the tree. (>= 0) E.g., depth 0 means 1 leaf node; depth 1 means 1 internal node + 2 leaf nodes.'): 3,\n",
       " Param(parent='GBTClassifier_f51911c0967e', name='maxIter', doc='max number of iterations (>= 0).'): 10,\n",
       " Param(parent='GBTClassifier_f51911c0967e', name='maxMemoryInMB', doc='Maximum memory in MB allocated to histogram aggregation. If too small, then 1 node will be split per iteration, and its aggregates may exceed this size.'): 256,\n",
       " Param(parent='GBTClassifier_f51911c0967e', name='minInfoGain', doc='Minimum information gain for a split to be considered at a tree node.'): 0.0,\n",
       " Param(parent='GBTClassifier_f51911c0967e', name='minInstancesPerNode', doc='Minimum number of instances each child must have after split. If a split causes the left or right child to have fewer than minInstancesPerNode, the split will be discarded as invalid. Should be >= 1.'): 1,\n",
       " Param(parent='GBTClassifier_f51911c0967e', name='minWeightFractionPerNode', doc='Minimum fraction of the weighted sample count that each child must have after split. If a split causes the fraction of the total weight in the left or right child to be less than minWeightFractionPerNode, the split will be discarded as invalid. Should be in interval [0.0, 0.5).'): 0.0,\n",
       " Param(parent='GBTClassifier_f51911c0967e', name='predictionCol', doc='prediction column name.'): 'prediction',\n",
       " Param(parent='GBTClassifier_f51911c0967e', name='probabilityCol', doc='Column name for predicted class conditional probabilities. Note: Not all models output well-calibrated probability estimates! These probabilities should be treated as confidences, not precise probabilities.'): 'probability',\n",
       " Param(parent='GBTClassifier_f51911c0967e', name='rawPredictionCol', doc='raw prediction (a.k.a. confidence) column name.'): 'rawPrediction',\n",
       " Param(parent='GBTClassifier_f51911c0967e', name='seed', doc='random seed.'): 42,\n",
       " Param(parent='GBTClassifier_f51911c0967e', name='stepSize', doc='Step size (a.k.a. learning rate) in interval (0, 1] for shrinking the contribution of each estimator.'): 0.1,\n",
       " Param(parent='GBTClassifier_f51911c0967e', name='subsamplingRate', doc='Fraction of the training data used for learning each decision tree, in range (0, 1].'): 1.0,\n",
       " Param(parent='GBTClassifier_f51911c0967e', name='validationTol', doc='Threshold for stopping early when fit with validation is used. If the error rate on the validation input changes by less than the validationTol, then learning will stop early (before `maxIter`). This parameter is ignored when fit without validation is used.'): 0.01}"
      ]
     },
     "execution_count": 166,
     "metadata": {},
     "output_type": "execute_result"
    }
   ],
   "source": [
    "# the parmeters of the best GBT model\n",
    "cvModel_gbt_tune.bestModel.extractParamMap()"
   ]
  },
  {
   "cell_type": "code",
   "execution_count": null,
   "metadata": {},
   "outputs": [],
   "source": []
  }
 ],
 "metadata": {
  "kernelspec": {
   "display_name": "Python 3",
   "language": "python",
   "name": "python3"
  },
  "language_info": {
   "codemirror_mode": {
    "name": "ipython",
    "version": 3
   },
   "file_extension": ".py",
   "mimetype": "text/x-python",
   "name": "python",
   "nbconvert_exporter": "python",
   "pygments_lexer": "ipython3",
   "version": "3.7.6"
  }
 },
 "nbformat": 4,
 "nbformat_minor": 2
}
